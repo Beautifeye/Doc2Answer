{
 "cells": [
  {
   "cell_type": "code",
   "execution_count": 48,
   "metadata": {},
   "outputs": [],
   "source": [
    "import os\n",
    "import matplotlib.pyplot as plt\n",
    "import pandas as pd\n",
    "import cv2"
   ]
  },
  {
   "cell_type": "code",
   "execution_count": 8,
   "metadata": {},
   "outputs": [],
   "source": [
    "ANN_DIR = \"annotations/Batch1/ds0/ann/\"\n",
    "IMG_DIR = \"../download_from_drive/data/O7/\""
   ]
  },
  {
   "cell_type": "code",
   "execution_count": 36,
   "metadata": {},
   "outputs": [],
   "source": [
    "ann_files = set(sorted([f.split('.')[0] for f in os.listdir(ANN_DIR) if f.endswith('.json')]))\n",
    "# ann_files"
   ]
  },
  {
   "cell_type": "code",
   "execution_count": 38,
   "metadata": {},
   "outputs": [],
   "source": [
    "img_files = set(sorted([f.split('.')[0] for f in os.listdir(IMG_DIR) if 'O7' in f]))\n",
    "# img_files"
   ]
  },
  {
   "cell_type": "code",
   "execution_count": 39,
   "metadata": {},
   "outputs": [
    {
     "data": {
      "text/plain": [
       "(253, 357)"
      ]
     },
     "execution_count": 39,
     "metadata": {},
     "output_type": "execute_result"
    }
   ],
   "source": [
    "len(ann_files), len(img_files)"
   ]
  },
  {
   "cell_type": "code",
   "execution_count": 40,
   "metadata": {},
   "outputs": [
    {
     "data": {
      "text/plain": [
       "{'20201106_132928',\n",
       " '20201106_132932',\n",
       " '20201106_134222',\n",
       " '20201106_134436',\n",
       " '20201106_134451',\n",
       " '20201106_134458',\n",
       " '20201106_134951',\n",
       " '20201106_135142',\n",
       " '20201106_135155',\n",
       " '20201106_135351',\n",
       " '20201106_135604',\n",
       " '20201106_135750',\n",
       " '20201106_135913',\n",
       " '20201106_135918',\n",
       " '20201106_140326',\n",
       " '20201106_141349',\n",
       " '20201106_141358',\n",
       " '20201106_142658',\n",
       " '20201106_142703',\n",
       " '20201106_142708',\n",
       " '20201106_142726'}"
      ]
     },
     "execution_count": 40,
     "metadata": {},
     "output_type": "execute_result"
    }
   ],
   "source": [
    "ann_files - img_files"
   ]
  },
  {
   "cell_type": "code",
   "execution_count": 46,
   "metadata": {},
   "outputs": [
    {
     "data": {
      "text/html": [
       "<div>\n",
       "<style scoped>\n",
       "    .dataframe tbody tr th:only-of-type {\n",
       "        vertical-align: middle;\n",
       "    }\n",
       "\n",
       "    .dataframe tbody tr th {\n",
       "        vertical-align: top;\n",
       "    }\n",
       "\n",
       "    .dataframe thead th {\n",
       "        text-align: right;\n",
       "    }\n",
       "</style>\n",
       "<table border=\"1\" class=\"dataframe\">\n",
       "  <thead>\n",
       "    <tr style=\"text-align: right;\">\n",
       "      <th></th>\n",
       "      <th>filename</th>\n",
       "      <th>points</th>\n",
       "      <th>value</th>\n",
       "    </tr>\n",
       "  </thead>\n",
       "  <tbody>\n",
       "    <tr>\n",
       "      <th>0</th>\n",
       "      <td>100849_O7_0240.jpg</td>\n",
       "      <td>(124, 679, 222, 812)</td>\n",
       "      <td>1</td>\n",
       "    </tr>\n",
       "    <tr>\n",
       "      <th>1</th>\n",
       "      <td>100849_O7_0240.jpg</td>\n",
       "      <td>(190, 678, 484, 811)</td>\n",
       "      <td>18-08-22</td>\n",
       "    </tr>\n",
       "    <tr>\n",
       "      <th>2</th>\n",
       "      <td>100849_O7_0240.jpg</td>\n",
       "      <td>(434, 677, 732, 808)</td>\n",
       "      <td>27-06-24</td>\n",
       "    </tr>\n",
       "    <tr>\n",
       "      <th>3</th>\n",
       "      <td>100849_O7_0240.jpg</td>\n",
       "      <td>(125, 811, 223, 939)</td>\n",
       "      <td>2</td>\n",
       "    </tr>\n",
       "    <tr>\n",
       "      <th>4</th>\n",
       "      <td>100849_O7_0240.jpg</td>\n",
       "      <td>(190, 810, 486, 938)</td>\n",
       "      <td>07-07-24</td>\n",
       "    </tr>\n",
       "    <tr>\n",
       "      <th>...</th>\n",
       "      <td>...</td>\n",
       "      <td>...</td>\n",
       "      <td>...</td>\n",
       "    </tr>\n",
       "    <tr>\n",
       "      <th>8434</th>\n",
       "      <td>91717_O7_0134.jpg</td>\n",
       "      <td>(652, 1587, 774, 1722)</td>\n",
       "      <td>none</td>\n",
       "    </tr>\n",
       "    <tr>\n",
       "      <th>8435</th>\n",
       "      <td>91717_O7_0134.jpg</td>\n",
       "      <td>(170, 1735, 267, 1866)</td>\n",
       "      <td>none</td>\n",
       "    </tr>\n",
       "    <tr>\n",
       "      <th>8436</th>\n",
       "      <td>91717_O7_0134.jpg</td>\n",
       "      <td>(239, 1730, 482, 1861)</td>\n",
       "      <td>none</td>\n",
       "    </tr>\n",
       "    <tr>\n",
       "      <th>8437</th>\n",
       "      <td>91717_O7_0134.jpg</td>\n",
       "      <td>(442, 1726, 688, 1856)</td>\n",
       "      <td>none</td>\n",
       "    </tr>\n",
       "    <tr>\n",
       "      <th>8438</th>\n",
       "      <td>91717_O7_0134.jpg</td>\n",
       "      <td>(657, 1721, 778, 1852)</td>\n",
       "      <td>none</td>\n",
       "    </tr>\n",
       "  </tbody>\n",
       "</table>\n",
       "<p>8439 rows × 3 columns</p>\n",
       "</div>"
      ],
      "text/plain": [
       "                filename                  points     value\n",
       "0     100849_O7_0240.jpg    (124, 679, 222, 812)         1\n",
       "1     100849_O7_0240.jpg    (190, 678, 484, 811)  18-08-22\n",
       "2     100849_O7_0240.jpg    (434, 677, 732, 808)  27-06-24\n",
       "3     100849_O7_0240.jpg    (125, 811, 223, 939)         2\n",
       "4     100849_O7_0240.jpg    (190, 810, 486, 938)  07-07-24\n",
       "...                  ...                     ...       ...\n",
       "8434   91717_O7_0134.jpg  (652, 1587, 774, 1722)      none\n",
       "8435   91717_O7_0134.jpg  (170, 1735, 267, 1866)      none\n",
       "8436   91717_O7_0134.jpg  (239, 1730, 482, 1861)      none\n",
       "8437   91717_O7_0134.jpg  (442, 1726, 688, 1856)      none\n",
       "8438   91717_O7_0134.jpg  (657, 1721, 778, 1852)      none\n",
       "\n",
       "[8439 rows x 3 columns]"
      ]
     },
     "execution_count": 46,
     "metadata": {},
     "output_type": "execute_result"
    }
   ],
   "source": [
    "df = pd.read_pickle(\"annotations/df_annotations.pkl\")\n",
    "df"
   ]
  },
  {
   "cell_type": "code",
   "execution_count": 56,
   "metadata": {},
   "outputs": [
    {
     "data": {
      "text/plain": [
       "(679, 812)"
      ]
     },
     "execution_count": 56,
     "metadata": {},
     "output_type": "execute_result"
    },
    {
     "data": {
      "image/png": "[encoded data removed]",
      "text/plain": [
       "<Figure size 432x288 with 1 Axes>"
      ]
     },
     "metadata": {
      "needs_background": "light"
     },
     "output_type": "display_data"
    }
   ],
   "source": [
    "idx = 0\n",
    "img_fn, points, val = df.loc[idx].values\n",
    "img = cv2.imread(os.path.join(IMG_DIR, img_fn))\n",
    "plt.imshow(img)\n",
    "plt.xlim([points[0], points[2]])\n",
    "plt.ylim([points[1], points[3]])"
   ]
  },
  {
   "cell_type": "code",
   "execution_count": null,
   "metadata": {},
   "outputs": [],
   "source": []
  },
  {
   "cell_type": "code",
   "execution_count": null,
   "metadata": {},
   "outputs": [],
   "source": []
  },
  {
   "cell_type": "code",
   "execution_count": 3,
   "metadata": {},
   "outputs": [
    {
     "data": {
      "text/plain": [
       "512"
      ]
     },
     "execution_count": 3,
     "metadata": {},
     "output_type": "execute_result"
    }
   ],
   "source": [
    "import os\n",
    "img_path = \"../../download_from_drive/data/O7/20057_O7_0016.jpg\"\n",
    "\n",
    "cmd = \"python predict.py --model_weights=best_model.ckpt --image_path=\\\"{}\\\"\".format(img_path)\n",
    "os.system(cmd)"
   ]
  },
  {
   "cell_type": "code",
   "execution_count": 5,
   "metadata": {},
   "outputs": [
    {
     "data": {
      "text/plain": [
       "'python predict.py --model_weights=best_model.ckpt --image_path=\"../../download_from_drive/data/O7/20057_O7_0016.jpg\"'"
      ]
     },
     "execution_count": 5,
     "metadata": {},
     "output_type": "execute_result"
    }
   ],
   "source": [
    "cmd"
   ]
  },
  {
   "cell_type": "code",
   "execution_count": null,
   "metadata": {},
   "outputs": [],
   "source": []
  }
 ],
 "metadata": {
  "kernelspec": {
   "display_name": "Python [conda env:pytorch_latest_p36]",
   "language": "python",
   "name": "conda-env-pytorch_latest_p36-py"
  },
  "language_info": {
   "codemirror_mode": {
    "name": "ipython",
    "version": 3
   },
   "file_extension": ".py",
   "mimetype": "text/x-python",
   "name": "python",
   "nbconvert_exporter": "python",
   "pygments_lexer": "ipython3",
   "version": "3.6.10"
  }
 },
 "nbformat": 4,
 "nbformat_minor": 4
}
