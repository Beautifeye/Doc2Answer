{
 "cells": [
  {
   "cell_type": "code",
   "execution_count": 1,
   "metadata": {},
   "outputs": [],
   "source": [
    "import os\n",
    "import pandas as pd\n",
    "import numpy as np\n",
    "import json\n",
    "from tqdm.notebook import tqdm\n",
    "from PIL import Image\n",
    "from pprint import pprint"
   ]
  },
  {
   "cell_type": "code",
   "execution_count": 2,
   "metadata": {},
   "outputs": [],
   "source": [
    "class Line:\n",
    "    \n",
    "    def __init__(self, pt1, pt2):\n",
    "        self.pt1 = pt1\n",
    "        self.pt2 = pt2\n",
    "        self.__split_points()\n",
    "        self.__compute_hvType()\n",
    "        \n",
    "    def __split_points(self):\n",
    "        self.x1, self.y1 = self.pt1\n",
    "        self.x2, self.y2 = self.pt2\n",
    "    \n",
    "    def __compute_hvType(self):\n",
    "        x_dist, y_dist = abs(self.x2 - self.x1), abs(self.y2 - self.y1)\n",
    "        self.hv_type = 'v' if x_dist < y_dist else 'h'\n",
    "        \n",
    "    def to_list(self):\n",
    "        return self.x1, self.y1, self.x2, self.y2\n",
    "    \n",
    "        \n",
    "def parse_object(obj):\n",
    "    (x1, y1), (x2, y2) = obj['points']['exterior']\n",
    "    return x1, y1, x2, y2\n",
    "    \n",
    "    \n",
    "def load_json(fpath):\n",
    "    lines = []\n",
    "    objs = json.load(open(fpath, \"r\"))['objects']\n",
    "    for obj in objs:\n",
    "        if obj['geometryType'] == \"line\":\n",
    "            x1, y1, x2, y2 = parse_object(obj)\n",
    "            lines.append(Line(pt1=(x1, y1), pt2=(x2, y2)))\n",
    "    return lines"
   ]
  },
  {
   "cell_type": "code",
   "execution_count": 3,
   "metadata": {},
   "outputs": [],
   "source": [
    "def compute_leftmost_line(lines):\n",
    "    vlines = [line for line in lines if line.hv_type == 'v']\n",
    "    min_x_list = [min(line.x1, line.x2) for line in vlines if line]\n",
    "    left_vline  = [line for line in vlines if min(line.x1, line.x2) == min(min_x_list)][0]\n",
    "    return left_vline\n",
    "\n",
    "\n",
    "def compute_rightmost_line(lines):\n",
    "    vlines = [line for line in lines if line.hv_type == 'v']\n",
    "    max_x_list = [max(line.x1, line.x2) for line in vlines]\n",
    "    right_vline = [line for line in vlines if max(line.x1, line.x2) == max(max_x_list)][0]\n",
    "    return right_vline\n",
    "\n",
    "\n",
    "def compute_topmost_line(lines):\n",
    "    hlines = [line for line in lines if line.hv_type == 'h']\n",
    "    min_y_list = [min(line.y1, line.y2) for line in hlines]\n",
    "    top_hline = [line for line in hlines if min(line.y1, line.y2) == min(min_y_list)][0]\n",
    "    return top_hline\n",
    "    \n",
    "    \n",
    "def compute_bottomost_line(lines):\n",
    "    hlines = [line for line in lines if line.hv_type == 'h']\n",
    "    max_y_list = [max(line.y1, line.y2) for line in hlines]\n",
    "    bottom_hline = [line for line in hlines if max(line.y1, line.y2) == max(max_y_list)][0]\n",
    "    return bottom_hline\n",
    "    \n",
    "    \n",
    "def compute_table_mask(img, lines):    \n",
    "    left_vline   = compute_leftmost_line(lines)\n",
    "    right_vline  = compute_rightmost_line(lines)\n",
    "    top_hline    = compute_topmost_line(lines)\n",
    "    bottom_hline = compute_bottomost_line(lines)   \n",
    "    \n",
    "    x1 = min(left_vline.x1, left_vline.x2, top_hline.x1, top_hline.x2, bottom_hline.x1, bottom_hline.x2)\n",
    "    y1 = min(left_vline.y1, left_vline.y2, top_hline.y1, top_hline.y2, right_vline.y1, right_vline.y2)\n",
    "    x2 = max(right_vline.x1, right_vline.x2)\n",
    "    y2 = max(left_vline.y1, left_vline.y2, right_vline.y1, right_vline.y2)\n",
    "    \n",
    "    mask = np.zeros((img.size[1], img.size[0])).astype(int)\n",
    "    mask[y1: y2 + 1, x1: x2 + 1] = 1\n",
    "    return mask\n",
    "\n",
    "\n",
    "def compute_columns_mask(img, lines, boundary=5):\n",
    "    vlines = [line for line in lines if line.hv_type == 'v']\n",
    "    left_vline  = compute_leftmost_line(lines)\n",
    "    right_vline = compute_rightmost_line(lines)\n",
    "    top_hline    = compute_topmost_line(lines)\n",
    "    bottom_hline = compute_bottomost_line(lines)   \n",
    "    \n",
    "    min_x_list = [min(line.x1, line.x2) for line in vlines]    \n",
    "    vlines = [line for _, line in sorted(zip(min_x_list, vlines), key=lambda pair: pair[0])]\n",
    "    \n",
    "    mask = np.zeros((img.size[1], img.size[0])).astype(int)\n",
    "    for left_line, right_line in zip(vlines[:-1], vlines[1:]):\n",
    "        x1 = min(left_line.x1, left_line.x2) + boundary\n",
    "        y1 = min(top_hline.y1, top_hline.y2, left_line.y1, left_line.y2, right_line.y1, right_line.y2)\n",
    "        x2 = max(right_line.x1, right_line.x2) - boundary\n",
    "        y2 = max(top_hline.y1, top_hline.y2, left_line.y1, left_line.y2, right_line.y1, right_line.y2)\n",
    "        mask[y1: y2, x1: x2] = 1\n",
    "        copy_img = np.asarray(img).copy()\n",
    "        copy_img[mask == 1] = 0\n",
    "    \n",
    "    return mask"
   ]
  },
  {
   "cell_type": "code",
   "execution_count": 4,
   "metadata": {},
   "outputs": [
    {
     "data": {
      "application/vnd.jupyter.widget-view+json": {
       "model_id": "fe592be2e43949758d816fb6780c173d",
       "version_major": 2,
       "version_minor": 0
      },
      "text/plain": [
       "HBox(children=(FloatProgress(value=0.0, max=253.0), HTML(value='')))"
      ]
     },
     "metadata": {},
     "output_type": "display_data"
    },
    {
     "name": "stdout",
     "output_type": "stream",
     "text": [
      "No lines for 42360_O7_0576.jpg.json\n",
      "No lines for 70386_O7_0464.jpg.json\n",
      "\n"
     ]
    }
   ],
   "source": [
    "ANN_DIR = \"../annotations/Batch1/ds0/ann/\"\n",
    "IMG_DIR = \"../../download_from_drive/data/ProcessedO7/\"\n",
    "TAB_MASK_DIR = \"./masks/table/\"\n",
    "COL_MASK_DIR = \"./masks/columns/\"\n",
    "\n",
    "for d in [TAB_MASK_DIR, COL_MASK_DIR]:\n",
    "    os.makedirs(d, exist_ok=True)\n",
    "    \n",
    "ann_fnames = [f for f in os.listdir(ANN_DIR) if f.endswith(\"json\")]\n",
    "for ann_fn in tqdm(ann_fnames):\n",
    "    \n",
    "    ann_path = os.path.join(ANN_DIR, ann_fn)\n",
    "    img_path = os.path.join(IMG_DIR, ann_fn.split('.json')[0])\n",
    "    tab_mask_path = os.path.join(TAB_MASK_DIR, ann_fn.split('.json')[0])\n",
    "    col_mask_path = os.path.join(COL_MASK_DIR, ann_fn.split('.json')[0])\n",
    "    \n",
    "    lines = load_json(ann_path)\n",
    "    if len(lines) > 0:\n",
    "        img = Image.open(img_path)\n",
    "        \n",
    "        tab_mask = compute_table_mask(img=img, lines=lines)\n",
    "        col_mask = compute_columns_mask(img=img, lines=lines)\n",
    "\n",
    "        for mask_path, mask in zip([tab_mask_path, col_mask_path], [tab_mask, col_mask]):\n",
    "            Image.fromarray((mask * 255).astype(np.uint8)).save(mask_path)\n",
    "    else:\n",
    "        print(\"No lines for \" + ann_fn)"
   ]
  }
 ],
 "metadata": {
  "kernelspec": {
   "display_name": "Python [conda env:pytorch_latest_p36]",
   "language": "python",
   "name": "conda-env-pytorch_latest_p36-py"
  },
  "language_info": {
   "codemirror_mode": {
    "name": "ipython",
    "version": 3
   },
   "file_extension": ".py",
   "mimetype": "text/x-python",
   "name": "python",
   "nbconvert_exporter": "python",
   "pygments_lexer": "ipython3",
   "version": "3.6.10"
  }
 },
 "nbformat": 4,
 "nbformat_minor": 4
}
