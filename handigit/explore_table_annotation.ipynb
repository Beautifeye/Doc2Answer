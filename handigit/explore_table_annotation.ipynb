{
 "cells": [
  {
   "cell_type": "code",
   "execution_count": null,
   "metadata": {},
   "outputs": [],
   "source": [
    "import os\n",
    "import pandas as pd\n",
    "import numpy as np\n",
    "import cv2\n",
    "import matplotlib.pyplot as plt\n",
    "import json\n",
    "import imutils\n",
    "import random"
   ]
  },
  {
   "cell_type": "code",
   "execution_count": null,
   "metadata": {},
   "outputs": [],
   "source": [
    "# def boundingRect(cnt):\n",
    "#     x_list = [p[0][0] for p in cnt]\n",
    "#     y_list = [p[0][1] for p in cnt]\n",
    "#     x1, x2 = min(x_list), max(x_list)\n",
    "#     y1, y2 = min(y_list), max(y_list)\n",
    "#     return (x1, y1), (x2, y2)\n",
    "\n",
    "# data_folder = \"../download_from_drive/data/O7/\"\n",
    "# img_fnms = sorted([fn for fn in os.listdir(data_folder) if fn.ends('.jpg')])\n",
    "\n",
    "# for fn in random.sample(img_fnms, 20):\n",
    "#     path = os.path.join(data_folder, fn)\n",
    "#     img = cv2.imread(path)\n",
    "#     orig = img.copy()\n",
    "#     gray = cv2.cvtColor(img, cv2.COLOR_BGR2GRAY)\n",
    "#     gray = cv2.GaussianBlur(gray, (7, 7), 0)\n",
    "#     edged = cv2.Canny(gray, 75, 200)\n",
    "#     cnts = cv2.findContours(edged.copy(), cv2.RETR_LIST, cv2.CHAIN_APPROX_SIMPLE)\n",
    "#     cnts = imutils.grab_contours(cnts)\n",
    "#     cnts = sorted(cnts, key=lambda x: cv2.arcLength(x, True), reverse=True)[:5]\n",
    "    \n",
    "#     has_cnt = False\n",
    "    \n",
    "#     for c in cnts:\n",
    "        \n",
    "#         # approximate the contour\n",
    "#         peri = cv2.arcLength(c, True)\n",
    "#         approx = cv2.approxPolyDP(c, 0.02 * peri, True)\n",
    "        \n",
    "#         # if our approximated contour has four points, then we\n",
    "#         # can assume that we have found our screen\n",
    "#         if len(approx) == 4:\n",
    "#             (x1, y1), (x2, y2) = boundingRect(cnt=approx)\n",
    "#             cv2.rectangle(img, (x1, y1), (x2, y2), (255,0,0), 14)\n",
    "#             plt.figure(figsize=(12,12)); plt.imshow(img); plt.axis('off'); plt.show()\n",
    "#             has_cnt = True\n",
    "    \n",
    "#             break\n",
    "        \n",
    "#     if not has_cnt:\n",
    "#         print(\"NO CONTOUR FOR\", path)        "
   ]
  },
  {
   "cell_type": "code",
   "execution_count": null,
   "metadata": {},
   "outputs": [],
   "source": [
    "class Line:\n",
    "    \n",
    "    def __init__(self, pt1, pt2):\n",
    "        self.pt1 = pt1\n",
    "        self.pt2 = pt2\n",
    "        self.__split_points()\n",
    "        self.__compute_hvType()\n",
    "        self.__compute_id_coord()\n",
    "        \n",
    "    def __split_points(self):\n",
    "        self.x1, self.y1 = self.pt1\n",
    "        self.x2, self.y2 = self.pt2\n",
    "    \n",
    "    def __compute_hvType(self):\n",
    "        x_dist, y_dist = abs(self.x2 - self.x1), abs(self.y2 - self.y1)\n",
    "        self.hv_type = 'v' if x_dist < y_dist else 'h'\n",
    "        \n",
    "    def __compute_id_coord(self):\n",
    "        self.id_coord = np.mean([self.x1, self.x2]) if self.hv_type == 'v' else np.mean([self.y1, self.y2])\n",
    "        self.id_coord = int(self.id_coord)\n",
    "        \n",
    "    def to_list(self):\n",
    "        return self.x1, self.y1, self.x2, self.y2\n",
    "    \n",
    "        \n",
    "def parse_object(obj):\n",
    "    (x1, y1), (x2, y2) = obj['points']['exterior']\n",
    "    return x1, y1, x2, y2\n",
    "    \n",
    "    \n",
    "def load_json(fpath):\n",
    "    lines = []\n",
    "    objs = json.load(open(fpath, \"r\"))['objects']\n",
    "    for obj in objs:\n",
    "        if obj['geometryType'] == \"line\":\n",
    "            x1, y1, x2, y2 = parse_object(obj)\n",
    "            lines.append(Line(pt1=(x1, y1), pt2=(x2, y2)))\n",
    "    return lines"
   ]
  },
  {
   "cell_type": "code",
   "execution_count": null,
   "metadata": {},
   "outputs": [],
   "source": [
    "ANN_DIR = \"./annotations/Batch1/ds0/ann/\"\n",
    "IMG_DIR = \"../download_from_drive/data/ProcessedO7/\""
   ]
  },
  {
   "cell_type": "code",
   "execution_count": null,
   "metadata": {},
   "outputs": [],
   "source": [
    "images_data_dict = {k: [] for k in [\"img_key\", \"w\", \"h\", \"n_lines\", \"n_lines_v\", \"n_lines_h\"]}\n",
    "\n",
    "ann_files = [f for f in os.listdir(ANN_DIR) if f.endswith(\".json\")]\n",
    "for ann_fn in ann_files:\n",
    "    lines = load_json(fpath=os.path.join(ANN_DIR, ann_fn))\n",
    "    images_data_dict['img_key'].append(ann_fn.split('.jpg.json')[0])\n",
    "    images_data_dict['n_lines'].append(len(lines))\n",
    "    h, w = cv2.imread(os.path.join(IMG_DIR, ann_fn.split('.json')[0])).shape[:2]\n",
    "    images_data_dict['w'].append(w)\n",
    "    images_data_dict['h'].append(h)\n",
    "    vlines = [l for l in lines if l.hv_type == 'v']\n",
    "    hlines = [l for l in lines if l.hv_type == 'h']\n",
    "    images_data_dict[\"n_lines_v\"].append(len(vlines))\n",
    "    images_data_dict[\"n_lines_h\"].append(len(hlines))"
   ]
  },
  {
   "cell_type": "code",
   "execution_count": null,
   "metadata": {},
   "outputs": [],
   "source": [
    "images_df = pd.DataFrame(images_data_dict)\n",
    "display(images_df)\n",
    "\n",
    "# for n_lines_v in images_df.n_lines_v.unique():\n",
    "#     print(\"n_lines_v =\", n_lines_v)\n",
    "#     for _, row in images_df.query(\"n_lines_v == @n_lines_v\").sample(10).iterrows():\n",
    "#         img = cv2.imread(os.path.join(IMG_DIR, row.img_key + \".jpg\"))\n",
    "#         plt.figure(figsize=(12,12)), plt.imshow(img); plt.axis('off'); plt.show()\n",
    "#     print(\"\\n\\n\\n\")"
   ]
  },
  {
   "cell_type": "code",
   "execution_count": null,
   "metadata": {},
   "outputs": [],
   "source": [
    "# N_LINES_V = 5\n",
    "# lines_data_dict = {k: [] for k in [\"img_key\", \"hv\", \"id_coord\"]}\n",
    "\n",
    "# df = images_df.query(\"n_lines_v == @N_LINES_V\")\n",
    "# for _, row in df.iterrows():\n",
    "#     lines = load_json(fpath=os.path.join(ANN_DIR, row.img_key + \".jpg.json\"))\n",
    "    \n",
    "#     for line in lines:\n",
    "#         lines_data_dict[\"img_key\"].append(row.img_key)\n",
    "#         lines_data_dict[\"hv\"].append(line.hv_type)\n",
    "#         id_coord = line.id_coord / (row.w if line.hv_type == 'v' else row.h)\n",
    "#         lines_data_dict[\"id_coord\"].append(round(id_coord, 2))\n",
    "\n",
    "# lines_df = pd.DataFrame(lines_data_dict)\n",
    "# lines_df"
   ]
  },
  {
   "cell_type": "code",
   "execution_count": null,
   "metadata": {},
   "outputs": [],
   "source": [
    "# d = {i: [] for i in range(N_LINES_V)}\n",
    "\n",
    "# for img_key in lines_df.img_key.unique():\n",
    "#     df = lines_df.query(\"hv == \\\"v\\\" and img_key == @img_key\").sort_values(\"id_coord\")\n",
    "#     i = 0\n",
    "#     for _, row in df.iterrows():\n",
    "#         d[i].append(row.id_coord)\n",
    "#         i += 1\n",
    "\n",
    "# vlines_df = pd.DataFrame(d)\n",
    "# for i in range(N_LINES_V):\n",
    "#     vlines_df[i].hist()\n",
    "#     plt.show()"
   ]
  },
  {
   "cell_type": "code",
   "execution_count": null,
   "metadata": {},
   "outputs": [],
   "source": [
    "VLINES4_DICT = {\n",
    "    0: 0.11,\n",
    "    1: 0.16,\n",
    "    2: 0.36,\n",
    "    3: 0.55\n",
    "}\n",
    "\n",
    "VLINES5_DICT = {\n",
    "    0: 0.12,\n",
    "    1: 0.17,\n",
    "    2: 0.33,\n",
    "    3: 0.47,\n",
    "    4: 0.54\n",
    "}"
   ]
  },
  {
   "cell_type": "code",
   "execution_count": null,
   "metadata": {},
   "outputs": [],
   "source": [
    "def get_lines_df(images_df, n_vlines):\n",
    "    lines_data_dict = {k: [] for k in [\"img_key\", \"hv\", \"id_coord\"]}\n",
    "    df = images_df.query(\"n_lines_v == @n_vlines\")\n",
    "    for _, row in df.iterrows():\n",
    "        lines = load_json(fpath=os.path.join(ANN_DIR, row.img_key + \".jpg.json\"))\n",
    "        for line in lines:\n",
    "            lines_data_dict[\"img_key\"].append(row.img_key)\n",
    "            lines_data_dict[\"hv\"].append(line.hv_type)\n",
    "            id_coord = line.id_coord / (row.w if line.hv_type == 'v' else row.h)\n",
    "            lines_data_dict[\"id_coord\"].append(round(id_coord, 2))\n",
    "    lines_df = pd.DataFrame(lines_data_dict)\n",
    "    return lines_df\n",
    "\n",
    "lines4_df = get_lines_df(images_df=images_df, n_vlines=4)\n",
    "lines5_df = get_lines_df(images_df=images_df, n_vlines=5)"
   ]
  },
  {
   "cell_type": "code",
   "execution_count": null,
   "metadata": {},
   "outputs": [],
   "source": [
    "display(lines4_df.head(15))\n",
    "display(lines5_df.head(15))"
   ]
  },
  {
   "cell_type": "code",
   "execution_count": null,
   "metadata": {},
   "outputs": [],
   "source": [
    "def plot_lines(images_df, lines_df, lines_dict, n_samples=None, figsize=(15, 15)):\n",
    "    tmp_df = images_df.copy()\n",
    "    if n_samples is not None:\n",
    "        tmp_df = tmp_df.sample(n=n_samples).reset_index().drop(\"index\", axis=1)\n",
    "#     display(tmp_df)\n",
    "  \n",
    "    for _, row in tmp_df.iterrows():\n",
    "        img = cv2.imread(os.path.join(IMG_DIR, row.img_key + \".jpg\"))\n",
    "        w, h = row.w, row.h\n",
    "        coords = [int(coord * w) for _, coord in lines_dict.items()]\n",
    "        for coord in coords:\n",
    "            img = cv2.line(img, (coord, 0), (coord, h - 1), (0,0,255), 5)\n",
    "        plt.figure(figsize=figsize)\n",
    "        plt.imshow(cv2.cvtColor(img, cv2.COLOR_BGR2RGB))\n",
    "        plt.axis(\"off\")\n",
    "        plt.show()"
   ]
  },
  {
   "cell_type": "code",
   "execution_count": null,
   "metadata": {},
   "outputs": [],
   "source": [
    "plot_lines(images_df.query(\"n_lines_v == 5\"), lines5_df, VLINES5_DICT, 50)"
   ]
  },
  {
   "cell_type": "code",
   "execution_count": null,
   "metadata": {},
   "outputs": [],
   "source": []
  },
  {
   "cell_type": "code",
   "execution_count": null,
   "metadata": {},
   "outputs": [],
   "source": []
  }
 ],
 "metadata": {
  "kernelspec": {
   "display_name": "Python [conda env:pytorch_latest_p36]",
   "language": "python",
   "name": "conda-env-pytorch_latest_p36-py"
  },
  "language_info": {
   "codemirror_mode": {
    "name": "ipython",
    "version": 3
   },
   "file_extension": ".py",
   "mimetype": "text/x-python",
   "name": "python",
   "nbconvert_exporter": "python",
   "pygments_lexer": "ipython3",
   "version": "3.6.10"
  }
 },
 "nbformat": 4,
 "nbformat_minor": 4
}
