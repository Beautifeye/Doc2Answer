{
 "cells": [
  {
   "cell_type": "code",
   "execution_count": null,
   "metadata": {},
   "outputs": [],
   "source": [
    "import pandas as pd\n",
    "import cv2\n",
    "import matplotlib.pyplot as plt\n",
    "import numpy as np\n",
    "import os\n",
    "import json\n",
    "from shapely.geometry import Point\n",
    "from shapely.geometry.polygon import Polygon"
   ]
  },
  {
   "cell_type": "code",
   "execution_count": null,
   "metadata": {},
   "outputs": [],
   "source": [
    "IMG_FOLDER = '../download_from_drive/data/ProcessedO7'\n",
    "ANNOTATION_FOLDER = 'annotations/Batch1/ds0/ann/'\n",
    "ann_paths = [os.path.join(ANNOTATION_FOLDER, fn)[:-5] for fn in os.listdir(ANNOTATION_FOLDER)]"
   ]
  },
  {
   "cell_type": "code",
   "execution_count": null,
   "metadata": {},
   "outputs": [],
   "source": [
    "colors = [(255, 0, 255), (255, 0, 0), (0,255,0), (0,255,255), (0,0,255), (130,250,0), (250, 130, 0)]\n",
    "ann_dict = {'filename':[], 'points':[], 'value':[]}\n",
    "for ann_name in ann_paths[:]:\n",
    "#     print(ann_name)\n",
    "    ann = json.load(open(ann_name+'.json', 'rb+'))\n",
    "    \n",
    "    rows = np.array([sorted(np.array(obj['points']['exterior']), key=lambda x: x[0])\n",
    "                     for obj in ann['objects'] if obj['classTitle']=='row_line'])\n",
    "    try:\n",
    "        rows = np.array(sorted(rows, key = lambda x: x[0,1]))\n",
    "    except:\n",
    "        print('row', ann_name)\n",
    "        continue\n",
    "\n",
    "    columns = np.array([sorted(np.array(obj['points']['exterior']), key=lambda x: x[1])\n",
    "                               for obj in ann['objects'] if obj['classTitle'].startswith('line')])\n",
    "    try:\n",
    "        columns = np.array(sorted(columns, key = lambda x: x[0,0]))\n",
    "    except:\n",
    "        print('col', ann_name, columns)\n",
    "        continue\n",
    "        \n",
    "    cells = [{'point': np.array(obj['points']['exterior'][0]), 'value': obj['tags'][0]['value']}\n",
    "                     for obj in ann['objects'] if 'line' not in obj['classTitle'] and len(obj['tags'])>0]\n",
    "    print(cells[0], cells[1])\n",
    "    cells = np.array(sorted(cells, key = lambda x: x['point'][1]))\n",
    "    img_path = os.path.join(IMG_FOLDER, ann_name.split('/')[-1])\n",
    "#     img = cv2.imread(img_path)\n",
    "    polygons= []\n",
    "    for i in range(1, len(rows)):\n",
    "        for j in range(1, len(columns)):\n",
    "            weight = (j-1)%4\n",
    "            y1 = np.average(rows[i-1][:,1], weights=[10.-weight, weight])\n",
    "            y2 = np.average(rows[i][:,1], weights=[10.-weight, weight])\n",
    "            weight = (i-1)\n",
    "            x1 = round(np.average(columns[j-1][:,0], weights=[len(rows)-weight, weight]))\n",
    "            x2 = round(np.average(columns[j][:,0], weights=[len(rows)-weight, weight]))\n",
    "            poly = Polygon([(x1, y1), (x1, y2), (x2, y2), (x2, y1)])\n",
    "            if int(y1) == int(y2):\n",
    "                print('cos', ann_name, rows)\n",
    "#             cv2.rectangle(img, (x1, int(y1)), (x2, int(y2)), colors[(i+j)%len(colors)], 2)\n",
    "            polygons.append(poly)\n",
    "        \n",
    "    for poly in polygons:\n",
    "        contain = 0\n",
    "        for i, cell in enumerate(cells):\n",
    "            x, y = cell['point']\n",
    "            point = Point(x, y)\n",
    "            if poly.contains(point) or (i==(len(cells)-1) and contain==0):\n",
    "                polygon = poly\n",
    "                contain = 1\n",
    "            else:\n",
    "                continue\n",
    "            x1, y1, x2, y2 = np.round(poly.bounds).astype(int)\n",
    "\n",
    "            delta_y = y2-y1\n",
    "            delta_x = x2-x1\n",
    "            y1 += 0.2 * delta_y\n",
    "            y2 += 0.2 * delta_y\n",
    "            x1 -= 0.1 * delta_x\n",
    "            x2 += 0.1 * delta_x\n",
    "            y1, y2 = round(y1), round(y2)\n",
    "            x1, x2 = round(x1), round(x2)\n",
    "#             cv2.rectangle(img, (x1, y1), (x2, y2), colors[i%len(colors)], 5)\n",
    "            ann_dict['filename'].append(ann_name.split('/')[-1])\n",
    "            ann_dict['points'].append(tuple([x1,y1,x2,y2]))\n",
    "            ann_dict['value'].append(cell.get('value') if poly.contains(point) else 'none')\n",
    "            break\n",
    "        break\n",
    "    break\n",
    "#     plt.figure(figsize=(20, 20))\n",
    "#     plt.imshow(img); plt.show()\n",
    "#     break"
   ]
  },
  {
   "cell_type": "code",
   "execution_count": null,
   "metadata": {},
   "outputs": [],
   "source": [
    "img_path = os.path.join(IMG_FOLDER, ann_dict['filename'][-1].split('/')[-1])\n",
    "x1, y1, x2, y2 = ann_dict['points'][-1]\n",
    "value = ann_dict['value'][-1]\n",
    "\n",
    "plt.figure(figsize=(12,12))\n",
    "img = plt.imread(img_path)\n",
    "cv2.rectangle(img, (x1, y1), (x2, y2), (255,0,0), 2)\n",
    "plt.imshow(img)\n",
    "print(value)"
   ]
  },
  {
   "cell_type": "code",
   "execution_count": null,
   "metadata": {},
   "outputs": [],
   "source": []
  },
  {
   "cell_type": "code",
   "execution_count": null,
   "metadata": {},
   "outputs": [],
   "source": [
    "df_ann = pd.DataFrame(ann_dict)"
   ]
  },
  {
   "cell_type": "code",
   "execution_count": null,
   "metadata": {},
   "outputs": [],
   "source": [
    "df_ann.to_csv('./annotations/df_annotations.csv', index=False)\n",
    "df_ann.to_pickle('./annotations/df_annotations.pkl')"
   ]
  },
  {
   "cell_type": "code",
   "execution_count": null,
   "metadata": {},
   "outputs": [],
   "source": [
    "df_ann"
   ]
  },
  {
   "cell_type": "code",
   "execution_count": null,
   "metadata": {},
   "outputs": [],
   "source": [
    "ann_name"
   ]
  },
  {
   "cell_type": "code",
   "execution_count": null,
   "metadata": {},
   "outputs": [],
   "source": [
    "ann_paths[9:10][0]"
   ]
  },
  {
   "cell_type": "code",
   "execution_count": null,
   "metadata": {},
   "outputs": [],
   "source": [
    "np.round(polygons[0].bounds).astype(int)"
   ]
  },
  {
   "cell_type": "code",
   "execution_count": null,
   "metadata": {},
   "outputs": [],
   "source": [
    "rows"
   ]
  },
  {
   "cell_type": "code",
   "execution_count": null,
   "metadata": {},
   "outputs": [],
   "source": [
    "set([obj['classTitle'] for obj in ann['objects']])"
   ]
  },
  {
   "cell_type": "code",
   "execution_count": null,
   "metadata": {},
   "outputs": [],
   "source": [
    "rows = np.array([obj['points']['exterior'] for obj in ann['objects'] if obj['classTitle']=='row_line'])\n",
    "np.array([obj['points']['exterior'] for obj in ann['objects'] if obj['classTitle']=='row_line'])\n",
    "rows = np.array(sorted(rows, key = lambda x: x[0,1]))\n",
    "\n",
    "columns = np.array([obj['points']['exterior'] for obj in ann['objects'] if obj['classTitle'].startswith('line')])\n",
    "columns = np.array(sorted(columns, key = lambda x: x[0,0]))\n",
    "\n",
    "cells = [{'point': np.array(obj['points']['exterior'][0]), 'value': obj['tags'][0]['value']}\n",
    "                 for obj in ann['objects'] if 'line' not in obj['classTitle']]"
   ]
  },
  {
   "cell_type": "code",
   "execution_count": null,
   "metadata": {},
   "outputs": [],
   "source": [
    "for cell in cells:\n",
    "    x, y = cell['point']\n",
    "    disty = y - np.mean(rows[:,:,1], axis=1)\n",
    "    distx = x - np.mean(columns[:,:,0], axis=1)\n",
    "    y1 = [np.mean(rows[:,:,1], axis=1)[idx] for idx in np.argsort(disty) if disty[idx]<0][-1]\n",
    "    y2 = [np.mean(rows[:,:,1], axis=1)[idx] for idx in np.argsort(disty) if disty[idx]>0][0]\n",
    "    x1 = [np.mean(columns[:,:,0], axis=1)[idx] for idx in np.argsort(distx) if distx[idx]<0][-1]\n",
    "    x2 = [np.mean(columns[:,:,0], axis=1)[idx] for idx in np.argsort(distx) if distx[idx]>0][0]\n",
    "    print(x1, y1, x2, y2)"
   ]
  },
  {
   "cell_type": "code",
   "execution_count": null,
   "metadata": {},
   "outputs": [],
   "source": [
    "columns"
   ]
  },
  {
   "cell_type": "code",
   "execution_count": null,
   "metadata": {},
   "outputs": [],
   "source": [
    "DATA_FOLDER = '250000_Final'\n",
    "img_paths = [os.path.join(DATA_FOLDER, number_folder, fn) for number_folder in os.listdir(DATA_FOLDER)\n",
    "    for fn in os.listdir(os.path.join(DATA_FOLDER, number_folder))]"
   ]
  },
  {
   "cell_type": "code",
   "execution_count": null,
   "metadata": {},
   "outputs": [],
   "source": [
    "np.random.shuffle(img_paths)\n",
    "for path in img_paths[:50]:\n",
    "    img = cv2.imread(path)\n",
    "    img = cv2.cvtColor(img, cv2.COLOR_BGR2GRAY)\n",
    "    img = 255 - img\n",
    "    img[img<(np.median(img) + np.std(img)/2)] = 0\n",
    "    plt.imshow(img); plt.show()"
   ]
  },
  {
   "cell_type": "code",
   "execution_count": null,
   "metadata": {},
   "outputs": [],
   "source": [
    "np.median(img), np.std(img)"
   ]
  }
 ],
 "metadata": {
  "kernelspec": {
   "display_name": "Python 3",
   "language": "python",
   "name": "python3"
  },
  "language_info": {
   "codemirror_mode": {
    "name": "ipython",
    "version": 3
   },
   "file_extension": ".py",
   "mimetype": "text/x-python",
   "name": "python",
   "nbconvert_exporter": "python",
   "pygments_lexer": "ipython3",
   "version": "3.7.7"
  }
 },
 "nbformat": 4,
 "nbformat_minor": 4
}
