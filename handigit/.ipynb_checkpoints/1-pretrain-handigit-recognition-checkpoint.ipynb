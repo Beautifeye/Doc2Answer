{
 "cells": [
  {
   "cell_type": "code",
   "execution_count": 1,
   "metadata": {},
   "outputs": [],
   "source": [
    "import sys\n",
    "sys.path.append('./faster_RCNN/')\n",
    "\n",
    "from digits_dataset_class import DigitsDataset\n",
    "import torchvision\n",
    "from torchvision.models.detection.faster_rcnn import FastRCNNPredictor\n",
    "\n",
    "import os\n",
    "import numpy as np\n",
    "import cv2\n",
    "import torch\n",
    "from torch import nn\n",
    "import torch.utils.data\n",
    "from PIL import Image\n",
    "import pandas as pd\n",
    "from scipy.io import loadmat\n",
    "\n",
    "\n",
    "from engine import train_one_epoch, evaluate\n",
    "import utils\n",
    "import transforms as T\n",
    "\n",
    "import numpy as np\n",
    "import random\n",
    "import matplotlib.pyplot as plt\n",
    "import albumentations as A\n",
    "from sklearn.datasets import load_digits"
   ]
  },
  {
   "cell_type": "code",
   "execution_count": 2,
   "metadata": {},
   "outputs": [],
   "source": [
    "from tensorflow.python.keras.datasets import mnist"
   ]
  },
  {
   "cell_type": "code",
   "execution_count": 3,
   "metadata": {},
   "outputs": [],
   "source": [
    "(X_mnist_train, Y_mnist_train), (X_mnist_test, Y_mnist_test) = mnist.load_data()"
   ]
  },
  {
   "cell_type": "code",
   "execution_count": 4,
   "metadata": {},
   "outputs": [],
   "source": [
    "X, Y, _ = loadmat('matlab/emnist-digits.mat')['dataset'][0][0][0][0][0]"
   ]
  },
  {
   "cell_type": "code",
   "execution_count": 5,
   "metadata": {},
   "outputs": [
    {
     "name": "stdout",
     "output_type": "stream",
     "text": [
      "9\n"
     ]
    },
    {
     "data": {
      "image/png": "[encoded data removed]",
      "text/plain": [
       "<Figure size 432x288 with 1 Axes>"
      ]
     },
     "metadata": {
      "needs_background": "light"
     },
     "output_type": "display_data"
    }
   ],
   "source": [
    "plt.imshow(X[1].reshape(28,28).T)\n",
    "print(Y[1][0])"
   ]
  },
  {
   "cell_type": "code",
   "execution_count": 6,
   "metadata": {},
   "outputs": [
    {
     "name": "stdout",
     "output_type": "stream",
     "text": [
      "0\n"
     ]
    },
    {
     "data": {
      "image/png": "[encoded data removed]",
      "text/plain": [
       "<Figure size 432x288 with 1 Axes>"
      ]
     },
     "metadata": {
      "needs_background": "light"
     },
     "output_type": "display_data"
    }
   ],
   "source": [
    "plt.imshow(X_mnist_train[1])\n",
    "print(Y_mnist_train[1])"
   ]
  },
  {
   "cell_type": "code",
   "execution_count": 7,
   "metadata": {},
   "outputs": [],
   "source": [
    "def add_line(img, cols=None, rows=None):\n",
    "    nlines = np.random.randint(1,5)\n",
    "    for i in range(nlines):\n",
    "        if np.random.random() < .5:\n",
    "            x1, x2 = np.random.randint(0, img.shape[1], size=2)\n",
    "            y1, y2 = np.random.randint(0, img.shape[0], size=2)\n",
    "        else:\n",
    "            x1, x2 = np.random.randint(-img.shape[1], 0), np.random.randint(img.shape[1], 2*img.shape[1])\n",
    "            y1, y2 = np.random.randint(-img.shape[0], 2*img.shape[0], size=2)\n",
    "        c = np.random.randint(10, 255)\n",
    "        line_thickness = np.random.randint(1, 3)\n",
    "        lineType = np.random.choice([cv2.LINE_8, cv2.LINE_AA])\n",
    "        cv2.line(img, (x1, y1), (x2, y2), (c, c, c), thickness=line_thickness, lineType=lineType)\n",
    "    return img\n",
    "\n",
    "\n",
    "def drawline(img,pt1,pt2,color,thickness=1,style='dotted',gap=20):\n",
    "    dist =((pt1[0]-pt2[0])**2+(pt1[1]-pt2[1])**2)**.5\n",
    "    pts= []\n",
    "    for i in  np.arange(0,dist,gap):\n",
    "        r=i/dist\n",
    "        x=int((pt1[0]*(1-r)+pt2[0]*r)+.5)\n",
    "        y=int((pt1[1]*(1-r)+pt2[1]*r)+.5)\n",
    "        p = (x,y)\n",
    "        pts.append(p)\n",
    "\n",
    "    if style=='dotted':\n",
    "        for p in pts:\n",
    "            cv2.circle(img,p,thickness,color,-1)\n",
    "    else:\n",
    "        s=pts[0]\n",
    "        e=pts[0]\n",
    "        i=0\n",
    "        for p in pts:\n",
    "            s=e\n",
    "            e=p\n",
    "            if i%2==1:\n",
    "                cv2.line(img,s,e,color,thickness)\n",
    "            i+=1\n",
    "\n",
    "def add_hline(img, cols=None, rows=None):\n",
    "    x1, y1 = 0, np.random.randint(0, img.shape[0]-10)\n",
    "    x2, y2 = img.shape[1], y1 + np.random.randint(-20, 20)\n",
    "    c = np.random.randint(10, 255)\n",
    "    thickness = np.random.randint(1, 5)\n",
    "    style = np.random.choice(['dotted', 'default'])\n",
    "    gap = np.random.randint(3, 15)\n",
    "    drawline(img, (x1, y1), (x2, y2), (c, c, c), thickness, style=style, gap=gap)\n",
    "    return img\n",
    "\n",
    "def add_spots(img, cols=None, rows=None):\n",
    "    nspots = np.random.randint(1,5)\n",
    "    for i in range(nspots):\n",
    "        x1, y1 = np.random.randint(0, img.shape[1]-20), np.random.randint(0, img.shape[0]-20)\n",
    "        x2, y2 = np.random.randint(x1, x1+20), np.random.randint(y1, y1+20)\n",
    "        c = np.random.randint(10, 255)\n",
    "        lineType = np.random.choice([cv2.LINE_8, cv2.LINE_AA])\n",
    "        cv2.rectangle(img, (x1, y1), (x2, y2), (c, c, c), thickness=-1, lineType=lineType)\n",
    "    return img\n",
    "\n",
    "def ToRGB(img, cols=None, rows=None):\n",
    "    return cv2.cvtColor(img, cv2.COLOR_GRAY2RGB)\n",
    "\n",
    "def ToGray(img, cols=None, rows=None):\n",
    "     return cv2.cvtColor(img, cv2.COLOR_RGB2GRAY)"
   ]
  },
  {
   "cell_type": "code",
   "execution_count": 8,
   "metadata": {},
   "outputs": [],
   "source": [
    "transforms = A.Compose([\n",
    "    A.Resize(128, 128),\n",
    "    A.Rotate(limit=(0,15), p=.1),\n",
    "    A.Lambda(image=add_line, p=0.3),\n",
    "    A.Lambda(image=add_spots, p=0.3),\n",
    "    A.Lambda(image=add_hline, p=0.3),\n",
    "#     A.Lambda(image=ToRGB, p=1),\n",
    "#     A.RandomFog(),\n",
    "#     A.Lambda(image=ToGray, p=1),\n",
    "#     A.CoarseDropout(p=.1),\n",
    "    A.Blur(blur_limit=7, p=.2),\n",
    "    A.GaussNoise(var_limit=(10.0, 200.0)),\n",
    "    A.RandomBrightnessContrast(p=0.2)])\n",
    "\n",
    "test_transforms = A.Compose([\n",
    "    A.Resize(128, 128)])"
   ]
  },
  {
   "cell_type": "code",
   "execution_count": 9,
   "metadata": {},
   "outputs": [],
   "source": [
    "np.random.seed(314)\n",
    "\n",
    "ids = np.random.permutation(len(X))\n",
    "\n",
    "TRAIN_RATIO = 0.9\n",
    "train_ids = ids[:int(len(X)*TRAIN_RATIO)]\n",
    "test_ids = ids[int(len(X)*TRAIN_RATIO):]\n",
    "\n",
    "# np.random.seed(314)\n",
    "\n",
    "# NUMBER_FOLDER = './250000_Final'\n",
    "# number_paths = np.array([os.path.join(NUMBER_FOLDER, folder, fn) for folder in os.listdir(NUMBER_FOLDER) for fn in os.listdir(os.path.join(NUMBER_FOLDER, folder))])\n",
    "# ids = np.random.permutation(len(number_paths))\n",
    "# train_number_paths = number_paths[ids[:int(len(ids)*TRAIN_RATIO)]]\n",
    "# test_number_paths = number_paths[ids[int(len(ids)*TRAIN_RATIO):]]"
   ]
  },
  {
   "cell_type": "code",
   "execution_count": 10,
   "metadata": {},
   "outputs": [],
   "source": [
    "train_dataset = DigitsDataset(X[train_ids], Y[train_ids], X_mnist_train, Y_mnist_train,\n",
    "                         transforms=transforms)\n",
    "valid_dataset =  DigitsDataset(X[test_ids], Y[test_ids], X_mnist_test, Y_mnist_test,\n",
    "                         transforms=test_transforms)\n",
    "\n",
    "\n",
    "# define training and validation data loaders\n",
    "train_loader = torch.utils.data.DataLoader(dataset=train_dataset,\n",
    "                                          batch_size=32,\n",
    "                                          shuffle=True,\n",
    "                                          num_workers=4,\n",
    "                                          collate_fn=None)\n",
    "\n",
    "valid_loader = torch.utils.data.DataLoader(dataset=valid_dataset,\n",
    "                                                batch_size=8,\n",
    "                                                shuffle=False,\n",
    "                                                num_workers=4,\n",
    "                                                collate_fn=None)"
   ]
  },
  {
   "cell_type": "code",
   "execution_count": 21,
   "metadata": {},
   "outputs": [
    {
     "name": "stdout",
     "output_type": "stream",
     "text": [
      "tensor([4, 7, 6, 7, 7, 4]) torch.Size([3, 128, 128])\n"
     ]
    },
    {
     "data": {
      "image/png": "[encoded data removed]",
      "text/plain": [
       "<Figure size 432x288 with 1 Axes>"
      ]
     },
     "metadata": {
      "needs_background": "light"
     },
     "output_type": "display_data"
    }
   ],
   "source": [
    "sample = train_dataset[0]\n",
    "plt.imshow(sample[0][0].numpy())\n",
    "print(sample[1], sample[0].shape)"
   ]
  },
  {
   "cell_type": "code",
   "execution_count": 22,
   "metadata": {},
   "outputs": [
    {
     "data": {
      "text/plain": [
       "device(type='cuda')"
      ]
     },
     "execution_count": 22,
     "metadata": {},
     "output_type": "execute_result"
    }
   ],
   "source": [
    "device = torch.device('cuda') if torch.cuda.is_available() else torch.device('cpu')\n",
    "checkpoints_dir = 'trained_models_v0'\n",
    "os.makedirs(checkpoints_dir, exist_ok=True)\n",
    "device"
   ]
  },
  {
   "cell_type": "code",
   "execution_count": 23,
   "metadata": {},
   "outputs": [],
   "source": [
    "class HandDigitModel(nn.Module):\n",
    "    def __init__(self):\n",
    "        super(HandDigitModel, self).__init__()\n",
    "\n",
    "        self.feature_extractor = torch.hub.load('pytorch/vision:v0.10.0', 'squeezenet1_0', pretrained=True)\n",
    "#         print(self.feature_extractor.classifier[1])\n",
    "#         self.feature_extractor.classifier[1] = nn.Conv2d(512, 512, kernel_size=(1,1), stride=(1,1))\n",
    "#         self.lstm = nn.LSTM(2048, 128, num_layers=6, dropout=.1, batch_first=True)\n",
    "        self.linear = nn.Sequential(nn.Linear(1000, 256), nn.ReLU(), nn.Linear(256, 11*6))\n",
    "\n",
    "    def forward(self, x):\n",
    "        x = self.feature_extractor(x)\n",
    "#         x, (hh, cn) = self.lstm(x.view(len(x), 1, 2048))\n",
    "#         hh = torch.transpose(hh, 0, 1)\n",
    "        out = self.linear(x)\n",
    "        out = out.view(len(x), 6, 11)\n",
    "        return out"
   ]
  },
  {
   "cell_type": "code",
   "execution_count": 24,
   "metadata": {},
   "outputs": [
    {
     "name": "stderr",
     "output_type": "stream",
     "text": [
      "Using cache found in /home/ubuntu/.cache/torch/hub/pytorch_vision_v0.10.0\n"
     ]
    },
    {
     "name": "stdout",
     "output_type": "stream",
     "text": [
      "Model loaded!\n"
     ]
    }
   ],
   "source": [
    "model = HandDigitModel()\n",
    "model.to(device)\n",
    "# model.load_state_dict(torch.load('trained_models_v0/HandDigitNet-checkpoint-v0.pt',map_location=device))\n",
    "print('Model loaded!')"
   ]
  },
  {
   "cell_type": "code",
   "execution_count": 25,
   "metadata": {},
   "outputs": [],
   "source": [
    "# construct an optimizer\n",
    "lr = 1e-4\n",
    "criterion = nn.CrossEntropyLoss()\n",
    "optimizer = torch.optim.Adam(model.parameters(), lr=lr)"
   ]
  },
  {
   "cell_type": "code",
   "execution_count": 26,
   "metadata": {},
   "outputs": [],
   "source": [
    "from tqdm.notebook import tqdm"
   ]
  },
  {
   "cell_type": "code",
   "execution_count": 27,
   "metadata": {},
   "outputs": [],
   "source": [
    "# preds.shape, targets.shape"
   ]
  },
  {
   "cell_type": "code",
   "execution_count": 28,
   "metadata": {},
   "outputs": [],
   "source": [
    "def get_ends(vec):\n",
    "    end = 0\n",
    "    ids = []\n",
    "    for i in range(len(vec)):\n",
    "        if i % 6 == 0:\n",
    "            end = 0\n",
    "        if vec[i] == 10:\n",
    "            if end != 1:\n",
    "                ids.append(i)\n",
    "            end = 1\n",
    "        else:\n",
    "            ids.append(i)\n",
    "            end = 0\n",
    "    return torch.tensor(ids, dtype=torch.long, device=device)"
   ]
  },
  {
   "cell_type": "code",
   "execution_count": 29,
   "metadata": {},
   "outputs": [],
   "source": [
    "def compute_accuracy(preds, targets):\n",
    "    y_pred = torch.argmax(preds,  dim=1)\n",
    "    acc = torch.mean((y_pred == targets).float())\n",
    "    return acc"
   ]
  },
  {
   "cell_type": "code",
   "execution_count": 30,
   "metadata": {},
   "outputs": [
    {
     "data": {
      "application/vnd.jupyter.widget-view+json": {
       "model_id": "ed47ae093bc0474b85ad3badbe5db908",
       "version_major": 2,
       "version_minor": 0
      },
      "text/plain": [
       "HBox(children=(FloatProgress(value=0.0, max=1125.0), HTML(value='')))"
      ]
     },
     "metadata": {},
     "output_type": "display_data"
    },
    {
     "name": "stdout",
     "output_type": "stream",
     "text": [
      "\n"
     ]
    },
    {
     "data": {
      "application/vnd.jupyter.widget-view+json": {
       "model_id": "4ba80412e20749f095e19ceea73bf045",
       "version_major": 2,
       "version_minor": 0
      },
      "text/plain": [
       "HBox(children=(FloatProgress(value=0.0, max=500.0), HTML(value='')))"
      ]
     },
     "metadata": {},
     "output_type": "display_data"
    },
    {
     "name": "stdout",
     "output_type": "stream",
     "text": [
      "\n",
      "Epoch#0 ==> Train Loss: 1.776 Train Acc: 0.390 | Test Loss: 1.286 Test Acc: 0.563\n"
     ]
    },
    {
     "data": {
      "application/vnd.jupyter.widget-view+json": {
       "model_id": "66527cdf244e4724afb1e90a36a035c0",
       "version_major": 2,
       "version_minor": 0
      },
      "text/plain": [
       "HBox(children=(FloatProgress(value=0.0, max=1125.0), HTML(value='')))"
      ]
     },
     "metadata": {},
     "output_type": "display_data"
    },
    {
     "name": "stdout",
     "output_type": "stream",
     "text": [
      "\n"
     ]
    },
    {
     "data": {
      "application/vnd.jupyter.widget-view+json": {
       "model_id": "771cd6638aa94ed498d51d3ef57ef61f",
       "version_major": 2,
       "version_minor": 0
      },
      "text/plain": [
       "HBox(children=(FloatProgress(value=0.0, max=500.0), HTML(value='')))"
      ]
     },
     "metadata": {},
     "output_type": "display_data"
    },
    {
     "name": "stdout",
     "output_type": "stream",
     "text": [
      "\n",
      "New checkpoint saved!\n",
      "Epoch#1 ==> Train Loss: 1.247 Train Acc: 0.584 | Test Loss: 0.942 Test Acc: 0.679\n"
     ]
    },
    {
     "data": {
      "application/vnd.jupyter.widget-view+json": {
       "model_id": "6bf271b2285b4ac090cb9ff88934ffb9",
       "version_major": 2,
       "version_minor": 0
      },
      "text/plain": [
       "HBox(children=(FloatProgress(value=0.0, max=1125.0), HTML(value='')))"
      ]
     },
     "metadata": {},
     "output_type": "display_data"
    },
    {
     "name": "stdout",
     "output_type": "stream",
     "text": [
      "\n"
     ]
    },
    {
     "data": {
      "application/vnd.jupyter.widget-view+json": {
       "model_id": "2528d3647d004085887792741aaf7ba1",
       "version_major": 2,
       "version_minor": 0
      },
      "text/plain": [
       "HBox(children=(FloatProgress(value=0.0, max=500.0), HTML(value='')))"
      ]
     },
     "metadata": {},
     "output_type": "display_data"
    },
    {
     "name": "stdout",
     "output_type": "stream",
     "text": [
      "\n",
      "New checkpoint saved!\n",
      "Epoch#2 ==> Train Loss: 1.009 Train Acc: 0.664 | Test Loss: 0.758 Test Acc: 0.747\n"
     ]
    },
    {
     "data": {
      "application/vnd.jupyter.widget-view+json": {
       "model_id": "ed1b1fa4374b49eeb0590c2b7df54f83",
       "version_major": 2,
       "version_minor": 0
      },
      "text/plain": [
       "HBox(children=(FloatProgress(value=0.0, max=1125.0), HTML(value='')))"
      ]
     },
     "metadata": {},
     "output_type": "display_data"
    },
    {
     "name": "stdout",
     "output_type": "stream",
     "text": [
      "\n"
     ]
    },
    {
     "data": {
      "application/vnd.jupyter.widget-view+json": {
       "model_id": "a21d1a424a164e4da5a443b64b500753",
       "version_major": 2,
       "version_minor": 0
      },
      "text/plain": [
       "HBox(children=(FloatProgress(value=0.0, max=500.0), HTML(value='')))"
      ]
     },
     "metadata": {},
     "output_type": "display_data"
    },
    {
     "name": "stdout",
     "output_type": "stream",
     "text": [
      "\n",
      "New checkpoint saved!\n",
      "Epoch#3 ==> Train Loss: 0.862 Train Acc: 0.714 | Test Loss: 0.623 Test Acc: 0.790\n"
     ]
    },
    {
     "data": {
      "application/vnd.jupyter.widget-view+json": {
       "model_id": "0355eca2ba044f98ab807937722c9c61",
       "version_major": 2,
       "version_minor": 0
      },
      "text/plain": [
       "HBox(children=(FloatProgress(value=0.0, max=1125.0), HTML(value='')))"
      ]
     },
     "metadata": {},
     "output_type": "display_data"
    },
    {
     "name": "stdout",
     "output_type": "stream",
     "text": [
      "\n"
     ]
    },
    {
     "data": {
      "application/vnd.jupyter.widget-view+json": {
       "model_id": "4afce2a47c1f40cdb04cf3e367f26538",
       "version_major": 2,
       "version_minor": 0
      },
      "text/plain": [
       "HBox(children=(FloatProgress(value=0.0, max=500.0), HTML(value='')))"
      ]
     },
     "metadata": {},
     "output_type": "display_data"
    },
    {
     "name": "stdout",
     "output_type": "stream",
     "text": [
      "\n",
      "New checkpoint saved!\n",
      "Epoch#4 ==> Train Loss: 0.751 Train Acc: 0.750 | Test Loss: 0.542 Test Acc: 0.818\n"
     ]
    },
    {
     "data": {
      "application/vnd.jupyter.widget-view+json": {
       "model_id": "ab6c4caeaf79458ca3fdce28ea161689",
       "version_major": 2,
       "version_minor": 0
      },
      "text/plain": [
       "HBox(children=(FloatProgress(value=0.0, max=1125.0), HTML(value='')))"
      ]
     },
     "metadata": {},
     "output_type": "display_data"
    },
    {
     "name": "stdout",
     "output_type": "stream",
     "text": [
      "\n"
     ]
    },
    {
     "data": {
      "application/vnd.jupyter.widget-view+json": {
       "model_id": "ac665f0ed348476391ccaccf7b00c7d2",
       "version_major": 2,
       "version_minor": 0
      },
      "text/plain": [
       "HBox(children=(FloatProgress(value=0.0, max=500.0), HTML(value='')))"
      ]
     },
     "metadata": {},
     "output_type": "display_data"
    },
    {
     "name": "stdout",
     "output_type": "stream",
     "text": [
      "\n",
      "New checkpoint saved!\n",
      "Epoch#5 ==> Train Loss: 0.679 Train Acc: 0.775 | Test Loss: 0.513 Test Acc: 0.825\n"
     ]
    },
    {
     "data": {
      "application/vnd.jupyter.widget-view+json": {
       "model_id": "b62ebc168d2b4c98bdbe8268a7f0744f",
       "version_major": 2,
       "version_minor": 0
      },
      "text/plain": [
       "HBox(children=(FloatProgress(value=0.0, max=1125.0), HTML(value='')))"
      ]
     },
     "metadata": {},
     "output_type": "display_data"
    },
    {
     "name": "stdout",
     "output_type": "stream",
     "text": [
      "\n"
     ]
    },
    {
     "data": {
      "application/vnd.jupyter.widget-view+json": {
       "model_id": "4a21eb92ca09499b8c95ce47fce517b7",
       "version_major": 2,
       "version_minor": 0
      },
      "text/plain": [
       "HBox(children=(FloatProgress(value=0.0, max=500.0), HTML(value='')))"
      ]
     },
     "metadata": {},
     "output_type": "display_data"
    },
    {
     "name": "stdout",
     "output_type": "stream",
     "text": [
      "\n",
      "New checkpoint saved!\n",
      "Epoch#6 ==> Train Loss: 0.616 Train Acc: 0.795 | Test Loss: 0.417 Test Acc: 0.858\n"
     ]
    },
    {
     "data": {
      "application/vnd.jupyter.widget-view+json": {
       "model_id": "afcb2484293d475ea9498d2ea518da74",
       "version_major": 2,
       "version_minor": 0
      },
      "text/plain": [
       "HBox(children=(FloatProgress(value=0.0, max=1125.0), HTML(value='')))"
      ]
     },
     "metadata": {},
     "output_type": "display_data"
    },
    {
     "name": "stdout",
     "output_type": "stream",
     "text": [
      "\n"
     ]
    },
    {
     "data": {
      "application/vnd.jupyter.widget-view+json": {
       "model_id": "37de6407a02a422595ad626d101e2573",
       "version_major": 2,
       "version_minor": 0
      },
      "text/plain": [
       "HBox(children=(FloatProgress(value=0.0, max=500.0), HTML(value='')))"
      ]
     },
     "metadata": {},
     "output_type": "display_data"
    },
    {
     "name": "stdout",
     "output_type": "stream",
     "text": [
      "\n",
      "New checkpoint saved!\n",
      "Epoch#7 ==> Train Loss: 0.569 Train Acc: 0.811 | Test Loss: 0.393 Test Acc: 0.867\n"
     ]
    },
    {
     "data": {
      "application/vnd.jupyter.widget-view+json": {
       "model_id": "7877adea37484e98a8dc42905d5217a9",
       "version_major": 2,
       "version_minor": 0
      },
      "text/plain": [
       "HBox(children=(FloatProgress(value=0.0, max=1125.0), HTML(value='')))"
      ]
     },
     "metadata": {},
     "output_type": "display_data"
    },
    {
     "name": "stdout",
     "output_type": "stream",
     "text": [
      "\n"
     ]
    },
    {
     "data": {
      "application/vnd.jupyter.widget-view+json": {
       "model_id": "5c2a180b9e3a4657a349c7da45653095",
       "version_major": 2,
       "version_minor": 0
      },
      "text/plain": [
       "HBox(children=(FloatProgress(value=0.0, max=500.0), HTML(value='')))"
      ]
     },
     "metadata": {},
     "output_type": "display_data"
    },
    {
     "name": "stdout",
     "output_type": "stream",
     "text": [
      "\n",
      "New checkpoint saved!\n",
      "Epoch#8 ==> Train Loss: 0.524 Train Acc: 0.825 | Test Loss: 0.347 Test Acc: 0.883\n"
     ]
    },
    {
     "data": {
      "application/vnd.jupyter.widget-view+json": {
       "model_id": "87b40bbf1f1d4fb5b916abf7e2acb495",
       "version_major": 2,
       "version_minor": 0
      },
      "text/plain": [
       "HBox(children=(FloatProgress(value=0.0, max=1125.0), HTML(value='')))"
      ]
     },
     "metadata": {},
     "output_type": "display_data"
    },
    {
     "name": "stdout",
     "output_type": "stream",
     "text": [
      "\n"
     ]
    },
    {
     "data": {
      "application/vnd.jupyter.widget-view+json": {
       "model_id": "25a9adc46b7b446298420ae8f453c255",
       "version_major": 2,
       "version_minor": 0
      },
      "text/plain": [
       "HBox(children=(FloatProgress(value=0.0, max=500.0), HTML(value='')))"
      ]
     },
     "metadata": {},
     "output_type": "display_data"
    },
    {
     "name": "stdout",
     "output_type": "stream",
     "text": [
      "\n",
      "New checkpoint saved!\n",
      "Epoch#9 ==> Train Loss: 0.487 Train Acc: 0.837 | Test Loss: 0.307 Test Acc: 0.896\n"
     ]
    },
    {
     "data": {
      "application/vnd.jupyter.widget-view+json": {
       "model_id": "ed9f2bf2085a4e16aea06b74c2a8a72f",
       "version_major": 2,
       "version_minor": 0
      },
      "text/plain": [
       "HBox(children=(FloatProgress(value=0.0, max=1125.0), HTML(value='')))"
      ]
     },
     "metadata": {},
     "output_type": "display_data"
    },
    {
     "name": "stdout",
     "output_type": "stream",
     "text": [
      "\n"
     ]
    },
    {
     "data": {
      "application/vnd.jupyter.widget-view+json": {
       "model_id": "f5a32e4c913c4b92a086748c5f436be8",
       "version_major": 2,
       "version_minor": 0
      },
      "text/plain": [
       "HBox(children=(FloatProgress(value=0.0, max=500.0), HTML(value='')))"
      ]
     },
     "metadata": {},
     "output_type": "display_data"
    },
    {
     "name": "stdout",
     "output_type": "stream",
     "text": [
      "\n",
      "New checkpoint saved!\n",
      "Epoch#10 ==> Train Loss: 0.449 Train Acc: 0.850 | Test Loss: 0.297 Test Acc: 0.899\n"
     ]
    },
    {
     "data": {
      "application/vnd.jupyter.widget-view+json": {
       "model_id": "4f6e958d704b41128c1c1ff467d53445",
       "version_major": 2,
       "version_minor": 0
      },
      "text/plain": [
       "HBox(children=(FloatProgress(value=0.0, max=1125.0), HTML(value='')))"
      ]
     },
     "metadata": {},
     "output_type": "display_data"
    },
    {
     "name": "stdout",
     "output_type": "stream",
     "text": [
      "\n"
     ]
    },
    {
     "data": {
      "application/vnd.jupyter.widget-view+json": {
       "model_id": "a7bb6ec2315a4812ae108e72a6a61924",
       "version_major": 2,
       "version_minor": 0
      },
      "text/plain": [
       "HBox(children=(FloatProgress(value=0.0, max=500.0), HTML(value='')))"
      ]
     },
     "metadata": {},
     "output_type": "display_data"
    },
    {
     "name": "stdout",
     "output_type": "stream",
     "text": [
      "\n",
      "New checkpoint saved!\n",
      "Epoch#11 ==> Train Loss: 0.422 Train Acc: 0.860 | Test Loss: 0.288 Test Acc: 0.907\n"
     ]
    },
    {
     "data": {
      "application/vnd.jupyter.widget-view+json": {
       "model_id": "3d92ce1874b44dccb14250c9a1c73491",
       "version_major": 2,
       "version_minor": 0
      },
      "text/plain": [
       "HBox(children=(FloatProgress(value=0.0, max=1125.0), HTML(value='')))"
      ]
     },
     "metadata": {},
     "output_type": "display_data"
    },
    {
     "name": "stdout",
     "output_type": "stream",
     "text": [
      "\n"
     ]
    },
    {
     "data": {
      "application/vnd.jupyter.widget-view+json": {
       "model_id": "3a7742bd99f54001b4eccc6e4d7d850b",
       "version_major": 2,
       "version_minor": 0
      },
      "text/plain": [
       "HBox(children=(FloatProgress(value=0.0, max=500.0), HTML(value='')))"
      ]
     },
     "metadata": {},
     "output_type": "display_data"
    },
    {
     "name": "stdout",
     "output_type": "stream",
     "text": [
      "\n",
      "New checkpoint saved!\n",
      "Epoch#12 ==> Train Loss: 0.394 Train Acc: 0.871 | Test Loss: 0.256 Test Acc: 0.916\n"
     ]
    },
    {
     "data": {
      "application/vnd.jupyter.widget-view+json": {
       "model_id": "617cfc0697a84529bea1ba1a13fcca19",
       "version_major": 2,
       "version_minor": 0
      },
      "text/plain": [
       "HBox(children=(FloatProgress(value=0.0, max=1125.0), HTML(value='')))"
      ]
     },
     "metadata": {},
     "output_type": "display_data"
    },
    {
     "name": "stdout",
     "output_type": "stream",
     "text": [
      "\n"
     ]
    },
    {
     "data": {
      "application/vnd.jupyter.widget-view+json": {
       "model_id": "0175983253ae45dfa199739cbdef9551",
       "version_major": 2,
       "version_minor": 0
      },
      "text/plain": [
       "HBox(children=(FloatProgress(value=0.0, max=500.0), HTML(value='')))"
      ]
     },
     "metadata": {},
     "output_type": "display_data"
    },
    {
     "name": "stdout",
     "output_type": "stream",
     "text": [
      "\n",
      "New checkpoint saved!\n",
      "Epoch#13 ==> Train Loss: 0.371 Train Acc: 0.880 | Test Loss: 0.250 Test Acc: 0.915\n"
     ]
    },
    {
     "data": {
      "application/vnd.jupyter.widget-view+json": {
       "model_id": "290b0d96091b467695011096a8bef60e",
       "version_major": 2,
       "version_minor": 0
      },
      "text/plain": [
       "HBox(children=(FloatProgress(value=0.0, max=1125.0), HTML(value='')))"
      ]
     },
     "metadata": {},
     "output_type": "display_data"
    },
    {
     "name": "stdout",
     "output_type": "stream",
     "text": [
      "\n"
     ]
    },
    {
     "data": {
      "application/vnd.jupyter.widget-view+json": {
       "model_id": "a21096d7c75d40028453bb181f7a0758",
       "version_major": 2,
       "version_minor": 0
      },
      "text/plain": [
       "HBox(children=(FloatProgress(value=0.0, max=500.0), HTML(value='')))"
      ]
     },
     "metadata": {},
     "output_type": "display_data"
    },
    {
     "name": "stdout",
     "output_type": "stream",
     "text": [
      "\n",
      "New checkpoint saved!\n",
      "Epoch#14 ==> Train Loss: 0.352 Train Acc: 0.887 | Test Loss: 0.202 Test Acc: 0.940\n"
     ]
    },
    {
     "data": {
      "application/vnd.jupyter.widget-view+json": {
       "model_id": "636affd0c174489bab70108fee116c81",
       "version_major": 2,
       "version_minor": 0
      },
      "text/plain": [
       "HBox(children=(FloatProgress(value=0.0, max=1125.0), HTML(value='')))"
      ]
     },
     "metadata": {},
     "output_type": "display_data"
    },
    {
     "name": "stdout",
     "output_type": "stream",
     "text": [
      "\n"
     ]
    },
    {
     "data": {
      "application/vnd.jupyter.widget-view+json": {
       "model_id": "22a1661e061c4f38902cda9af91854d6",
       "version_major": 2,
       "version_minor": 0
      },
      "text/plain": [
       "HBox(children=(FloatProgress(value=0.0, max=500.0), HTML(value='')))"
      ]
     },
     "metadata": {},
     "output_type": "display_data"
    },
    {
     "name": "stdout",
     "output_type": "stream",
     "text": [
      "\n",
      "New checkpoint saved!\n",
      "Epoch#15 ==> Train Loss: 0.326 Train Acc: 0.896 | Test Loss: 0.188 Test Acc: 0.943\n"
     ]
    },
    {
     "data": {
      "application/vnd.jupyter.widget-view+json": {
       "model_id": "67d0f494d81e4b26b34d5c178c790bf1",
       "version_major": 2,
       "version_minor": 0
      },
      "text/plain": [
       "HBox(children=(FloatProgress(value=0.0, max=1125.0), HTML(value='')))"
      ]
     },
     "metadata": {},
     "output_type": "display_data"
    },
    {
     "name": "stdout",
     "output_type": "stream",
     "text": [
      "\n"
     ]
    },
    {
     "data": {
      "application/vnd.jupyter.widget-view+json": {
       "model_id": "c4908201a0f947ad9ecb6bd009d2d81d",
       "version_major": 2,
       "version_minor": 0
      },
      "text/plain": [
       "HBox(children=(FloatProgress(value=0.0, max=500.0), HTML(value='')))"
      ]
     },
     "metadata": {},
     "output_type": "display_data"
    },
    {
     "name": "stdout",
     "output_type": "stream",
     "text": [
      "\n",
      "New checkpoint saved!\n",
      "Epoch#16 ==> Train Loss: 0.309 Train Acc: 0.903 | Test Loss: 0.180 Test Acc: 0.944\n"
     ]
    },
    {
     "data": {
      "application/vnd.jupyter.widget-view+json": {
       "model_id": "a895da9bc96743f4b4d91c91f2f66b7d",
       "version_major": 2,
       "version_minor": 0
      },
      "text/plain": [
       "HBox(children=(FloatProgress(value=0.0, max=1125.0), HTML(value='')))"
      ]
     },
     "metadata": {},
     "output_type": "display_data"
    },
    {
     "name": "stdout",
     "output_type": "stream",
     "text": [
      "\n"
     ]
    },
    {
     "data": {
      "application/vnd.jupyter.widget-view+json": {
       "model_id": "8e17c9f8fb434032a2fd8e994afb02aa",
       "version_major": 2,
       "version_minor": 0
      },
      "text/plain": [
       "HBox(children=(FloatProgress(value=0.0, max=500.0), HTML(value='')))"
      ]
     },
     "metadata": {},
     "output_type": "display_data"
    },
    {
     "name": "stdout",
     "output_type": "stream",
     "text": [
      "\n",
      "New checkpoint saved!\n",
      "Epoch#17 ==> Train Loss: 0.293 Train Acc: 0.908 | Test Loss: 0.158 Test Acc: 0.950\n"
     ]
    },
    {
     "data": {
      "application/vnd.jupyter.widget-view+json": {
       "model_id": "0273adb55f334f079ccaf217328a48dd",
       "version_major": 2,
       "version_minor": 0
      },
      "text/plain": [
       "HBox(children=(FloatProgress(value=0.0, max=1125.0), HTML(value='')))"
      ]
     },
     "metadata": {},
     "output_type": "display_data"
    },
    {
     "name": "stdout",
     "output_type": "stream",
     "text": [
      "\n"
     ]
    },
    {
     "data": {
      "application/vnd.jupyter.widget-view+json": {
       "model_id": "f22a02d221544ab493a6594a24e57b3a",
       "version_major": 2,
       "version_minor": 0
      },
      "text/plain": [
       "HBox(children=(FloatProgress(value=0.0, max=500.0), HTML(value='')))"
      ]
     },
     "metadata": {},
     "output_type": "display_data"
    },
    {
     "name": "stdout",
     "output_type": "stream",
     "text": [
      "\n",
      "Epoch#18 ==> Train Loss: 0.280 Train Acc: 0.914 | Test Loss: 0.167 Test Acc: 0.949\n"
     ]
    },
    {
     "data": {
      "application/vnd.jupyter.widget-view+json": {
       "model_id": "1cde5503947440cf81f790429e65cd3b",
       "version_major": 2,
       "version_minor": 0
      },
      "text/plain": [
       "HBox(children=(FloatProgress(value=0.0, max=1125.0), HTML(value='')))"
      ]
     },
     "metadata": {},
     "output_type": "display_data"
    },
    {
     "name": "stdout",
     "output_type": "stream",
     "text": [
      "\n"
     ]
    },
    {
     "data": {
      "application/vnd.jupyter.widget-view+json": {
       "model_id": "544a2b951002471eb143ffb505beba51",
       "version_major": 2,
       "version_minor": 0
      },
      "text/plain": [
       "HBox(children=(FloatProgress(value=0.0, max=500.0), HTML(value='')))"
      ]
     },
     "metadata": {},
     "output_type": "display_data"
    },
    {
     "name": "stdout",
     "output_type": "stream",
     "text": [
      "\n",
      "New checkpoint saved!\n",
      "Epoch#19 ==> Train Loss: 0.270 Train Acc: 0.917 | Test Loss: 0.134 Test Acc: 0.960\n"
     ]
    },
    {
     "data": {
      "application/vnd.jupyter.widget-view+json": {
       "model_id": "5bcd6b78ae4a4ee494b5848c749ba0ca",
       "version_major": 2,
       "version_minor": 0
      },
      "text/plain": [
       "HBox(children=(FloatProgress(value=0.0, max=1125.0), HTML(value='')))"
      ]
     },
     "metadata": {},
     "output_type": "display_data"
    },
    {
     "name": "stdout",
     "output_type": "stream",
     "text": [
      "\n"
     ]
    },
    {
     "data": {
      "application/vnd.jupyter.widget-view+json": {
       "model_id": "0ac6225b0fa84269aadc4477d472e84d",
       "version_major": 2,
       "version_minor": 0
      },
      "text/plain": [
       "HBox(children=(FloatProgress(value=0.0, max=500.0), HTML(value='')))"
      ]
     },
     "metadata": {},
     "output_type": "display_data"
    },
    {
     "name": "stdout",
     "output_type": "stream",
     "text": [
      "\n",
      "Epoch#20 ==> Train Loss: 0.262 Train Acc: 0.921 | Test Loss: 0.152 Test Acc: 0.958\n"
     ]
    },
    {
     "data": {
      "application/vnd.jupyter.widget-view+json": {
       "model_id": "e95c98f0ef4746f3b11e51adbfbbd2e3",
       "version_major": 2,
       "version_minor": 0
      },
      "text/plain": [
       "HBox(children=(FloatProgress(value=0.0, max=1125.0), HTML(value='')))"
      ]
     },
     "metadata": {},
     "output_type": "display_data"
    },
    {
     "name": "stdout",
     "output_type": "stream",
     "text": [
      "\n"
     ]
    },
    {
     "data": {
      "application/vnd.jupyter.widget-view+json": {
       "model_id": "ad12bc8f70264016a1368c03b3aa6132",
       "version_major": 2,
       "version_minor": 0
      },
      "text/plain": [
       "HBox(children=(FloatProgress(value=0.0, max=500.0), HTML(value='')))"
      ]
     },
     "metadata": {},
     "output_type": "display_data"
    },
    {
     "name": "stdout",
     "output_type": "stream",
     "text": [
      "\n",
      "Epoch#21 ==> Train Loss: 0.253 Train Acc: 0.924 | Test Loss: 0.135 Test Acc: 0.962\n"
     ]
    },
    {
     "data": {
      "application/vnd.jupyter.widget-view+json": {
       "model_id": "ef6d44be3bfa4eb2ba4f4bd9e39bbd1d",
       "version_major": 2,
       "version_minor": 0
      },
      "text/plain": [
       "HBox(children=(FloatProgress(value=0.0, max=1125.0), HTML(value='')))"
      ]
     },
     "metadata": {},
     "output_type": "display_data"
    },
    {
     "name": "stdout",
     "output_type": "stream",
     "text": [
      "\n"
     ]
    },
    {
     "data": {
      "application/vnd.jupyter.widget-view+json": {
       "model_id": "c8b9dd3283b442a6bb4d643dfae382b3",
       "version_major": 2,
       "version_minor": 0
      },
      "text/plain": [
       "HBox(children=(FloatProgress(value=0.0, max=500.0), HTML(value='')))"
      ]
     },
     "metadata": {},
     "output_type": "display_data"
    },
    {
     "name": "stdout",
     "output_type": "stream",
     "text": [
      "\n",
      "New checkpoint saved!\n",
      "Epoch#22 ==> Train Loss: 0.245 Train Acc: 0.928 | Test Loss: 0.125 Test Acc: 0.966\n"
     ]
    },
    {
     "data": {
      "application/vnd.jupyter.widget-view+json": {
       "model_id": "5e6e1c64a8bd4a10984189a636f3ba25",
       "version_major": 2,
       "version_minor": 0
      },
      "text/plain": [
       "HBox(children=(FloatProgress(value=0.0, max=1125.0), HTML(value='')))"
      ]
     },
     "metadata": {},
     "output_type": "display_data"
    },
    {
     "name": "stdout",
     "output_type": "stream",
     "text": [
      "\n"
     ]
    },
    {
     "data": {
      "application/vnd.jupyter.widget-view+json": {
       "model_id": "e6851e31c92d4657a8b716a9bebd1609",
       "version_major": 2,
       "version_minor": 0
      },
      "text/plain": [
       "HBox(children=(FloatProgress(value=0.0, max=500.0), HTML(value='')))"
      ]
     },
     "metadata": {},
     "output_type": "display_data"
    },
    {
     "name": "stdout",
     "output_type": "stream",
     "text": [
      "\n",
      "New checkpoint saved!\n",
      "Epoch#23 ==> Train Loss: 0.235 Train Acc: 0.931 | Test Loss: 0.112 Test Acc: 0.970\n"
     ]
    },
    {
     "data": {
      "application/vnd.jupyter.widget-view+json": {
       "model_id": "c913c740ab094c5f9d8e5870cb0bdaf2",
       "version_major": 2,
       "version_minor": 0
      },
      "text/plain": [
       "HBox(children=(FloatProgress(value=0.0, max=1125.0), HTML(value='')))"
      ]
     },
     "metadata": {},
     "output_type": "display_data"
    },
    {
     "name": "stdout",
     "output_type": "stream",
     "text": [
      "\n"
     ]
    },
    {
     "data": {
      "application/vnd.jupyter.widget-view+json": {
       "model_id": "f5ac48d4f98d48e6972490c535ecdef5",
       "version_major": 2,
       "version_minor": 0
      },
      "text/plain": [
       "HBox(children=(FloatProgress(value=0.0, max=500.0), HTML(value='')))"
      ]
     },
     "metadata": {},
     "output_type": "display_data"
    },
    {
     "name": "stdout",
     "output_type": "stream",
     "text": [
      "\n",
      "Epoch#24 ==> Train Loss: 0.220 Train Acc: 0.935 | Test Loss: 0.120 Test Acc: 0.967\n"
     ]
    },
    {
     "data": {
      "application/vnd.jupyter.widget-view+json": {
       "model_id": "cc3229a8daf445839778ba7ca1cfe101",
       "version_major": 2,
       "version_minor": 0
      },
      "text/plain": [
       "HBox(children=(FloatProgress(value=0.0, max=1125.0), HTML(value='')))"
      ]
     },
     "metadata": {},
     "output_type": "display_data"
    },
    {
     "name": "stdout",
     "output_type": "stream",
     "text": [
      "\n"
     ]
    },
    {
     "data": {
      "application/vnd.jupyter.widget-view+json": {
       "model_id": "a73cf05dc96249a8a4a1e0a696c40312",
       "version_major": 2,
       "version_minor": 0
      },
      "text/plain": [
       "HBox(children=(FloatProgress(value=0.0, max=500.0), HTML(value='')))"
      ]
     },
     "metadata": {},
     "output_type": "display_data"
    },
    {
     "name": "stdout",
     "output_type": "stream",
     "text": [
      "\n",
      "Epoch#25 ==> Train Loss: 0.219 Train Acc: 0.936 | Test Loss: 0.117 Test Acc: 0.967\n"
     ]
    },
    {
     "data": {
      "application/vnd.jupyter.widget-view+json": {
       "model_id": "bc5ac2987e884006af9372f86ca3b2bc",
       "version_major": 2,
       "version_minor": 0
      },
      "text/plain": [
       "HBox(children=(FloatProgress(value=0.0, max=1125.0), HTML(value='')))"
      ]
     },
     "metadata": {},
     "output_type": "display_data"
    },
    {
     "name": "stdout",
     "output_type": "stream",
     "text": [
      "\n"
     ]
    },
    {
     "data": {
      "application/vnd.jupyter.widget-view+json": {
       "model_id": "635cde3bbf054707a8658730ea58f929",
       "version_major": 2,
       "version_minor": 0
      },
      "text/plain": [
       "HBox(children=(FloatProgress(value=0.0, max=500.0), HTML(value='')))"
      ]
     },
     "metadata": {},
     "output_type": "display_data"
    },
    {
     "name": "stdout",
     "output_type": "stream",
     "text": [
      "\n",
      "New checkpoint saved!\n",
      "Epoch#26 ==> Train Loss: 0.209 Train Acc: 0.939 | Test Loss: 0.099 Test Acc: 0.975\n"
     ]
    },
    {
     "data": {
      "application/vnd.jupyter.widget-view+json": {
       "model_id": "82a34a29615842e8a2eacea13576c09f",
       "version_major": 2,
       "version_minor": 0
      },
      "text/plain": [
       "HBox(children=(FloatProgress(value=0.0, max=1125.0), HTML(value='')))"
      ]
     },
     "metadata": {},
     "output_type": "display_data"
    },
    {
     "name": "stdout",
     "output_type": "stream",
     "text": [
      "\n"
     ]
    },
    {
     "data": {
      "application/vnd.jupyter.widget-view+json": {
       "model_id": "e43d132f4bf4401a8ec7aa4bbdebba84",
       "version_major": 2,
       "version_minor": 0
      },
      "text/plain": [
       "HBox(children=(FloatProgress(value=0.0, max=500.0), HTML(value='')))"
      ]
     },
     "metadata": {},
     "output_type": "display_data"
    },
    {
     "name": "stdout",
     "output_type": "stream",
     "text": [
      "\n",
      "New checkpoint saved!\n",
      "Epoch#27 ==> Train Loss: 0.205 Train Acc: 0.941 | Test Loss: 0.097 Test Acc: 0.972\n"
     ]
    },
    {
     "data": {
      "application/vnd.jupyter.widget-view+json": {
       "model_id": "f95c8917e64040afb550bab22f9ec61a",
       "version_major": 2,
       "version_minor": 0
      },
      "text/plain": [
       "HBox(children=(FloatProgress(value=0.0, max=1125.0), HTML(value='')))"
      ]
     },
     "metadata": {},
     "output_type": "display_data"
    },
    {
     "name": "stdout",
     "output_type": "stream",
     "text": [
      "\n"
     ]
    },
    {
     "data": {
      "application/vnd.jupyter.widget-view+json": {
       "model_id": "9b44e2b05aca41fcb49452fc5ef40c09",
       "version_major": 2,
       "version_minor": 0
      },
      "text/plain": [
       "HBox(children=(FloatProgress(value=0.0, max=500.0), HTML(value='')))"
      ]
     },
     "metadata": {},
     "output_type": "display_data"
    },
    {
     "name": "stdout",
     "output_type": "stream",
     "text": [
      "\n",
      "Epoch#28 ==> Train Loss: 0.198 Train Acc: 0.945 | Test Loss: 0.101 Test Acc: 0.973\n"
     ]
    },
    {
     "data": {
      "application/vnd.jupyter.widget-view+json": {
       "model_id": "57c777d1eae84eca81f78f3c30789573",
       "version_major": 2,
       "version_minor": 0
      },
      "text/plain": [
       "HBox(children=(FloatProgress(value=0.0, max=1125.0), HTML(value='')))"
      ]
     },
     "metadata": {},
     "output_type": "display_data"
    },
    {
     "name": "stdout",
     "output_type": "stream",
     "text": [
      "\n"
     ]
    },
    {
     "data": {
      "application/vnd.jupyter.widget-view+json": {
       "model_id": "c8dea6c6fa634267b634f0320a26b1e8",
       "version_major": 2,
       "version_minor": 0
      },
      "text/plain": [
       "HBox(children=(FloatProgress(value=0.0, max=500.0), HTML(value='')))"
      ]
     },
     "metadata": {},
     "output_type": "display_data"
    },
    {
     "name": "stdout",
     "output_type": "stream",
     "text": [
      "\n",
      "New checkpoint saved!\n",
      "Epoch#29 ==> Train Loss: 0.193 Train Acc: 0.946 | Test Loss: 0.081 Test Acc: 0.978\n"
     ]
    }
   ],
   "source": [
    "EPOCHS = 30\n",
    "epochs_history = []\n",
    "DEVICE = device\n",
    "best_avg_err = 100.\n",
    "no_improvement = 0\n",
    "\n",
    "for epoch in range(EPOCHS):\n",
    "\n",
    "    model.train()\n",
    "    loss_val, train_acc = 0, 0\n",
    "    for batch_id, (X_batch, targets) in enumerate(tqdm(train_loader)):\n",
    "        optimizer.zero_grad()\n",
    "        X_batch = X_batch.to(DEVICE)\n",
    "        preds = model(X_batch)\n",
    "        preds = preds.view(-1, 11)\n",
    "        targets = targets.to(DEVICE)\n",
    "        targets = targets.view(-1)\n",
    "        ids = get_ends(targets)\n",
    "        targets = targets[ids]\n",
    "        preds = preds[ids]\n",
    "        train_acc += compute_accuracy(preds, targets).item()\n",
    "        loss = criterion(preds, targets)\n",
    "        loss_val += loss.item()\n",
    "        loss.backward()\n",
    "        optimizer.step()\n",
    "        del X_batch; del preds; del targets\n",
    "        \n",
    "    test_loss_val, test_acc = 0, 0\n",
    "    optimizer.zero_grad()\n",
    "    model.eval()\n",
    "    for test_batch_id, (X_batch, targets) in enumerate(tqdm(valid_loader)):\n",
    "        with torch.no_grad():\n",
    "            optimizer.zero_grad()\n",
    "            X_batch = X_batch.to(DEVICE)\n",
    "            preds = model(X_batch)\n",
    "            preds = preds.view(-1, 11)\n",
    "            targets = targets.to(DEVICE)\n",
    "            targets = targets.view(-1)\n",
    "            ids = get_ends(targets)\n",
    "            targets = targets[ids]\n",
    "            preds = preds[ids]\n",
    "            test_acc += compute_accuracy(preds, targets).item()\n",
    "            loss = criterion(preds, targets)\n",
    "            test_loss_val += loss.item()\n",
    "        del X_batch; del preds; del targets\n",
    "        \n",
    "\n",
    "    \n",
    "    epochs_history.append([loss_val/batch_id, test_loss_val/test_batch_id, train_acc/batch_id, test_acc/test_batch_id])\n",
    "    test_score = test_loss_val/test_batch_id\n",
    "    if test_score < best_avg_err and epoch > 0:\n",
    "        torch.save(model.state_dict(), os.path.join(checkpoints_dir, 'HandDigitNet-checkpoint-v0.pt'))\n",
    "        best_avg_err = test_score\n",
    "        print('New checkpoint saved!')\n",
    "        no_improvement = 0\n",
    "    else:\n",
    "        no_improvement += 1\n",
    "    if no_improvement == 5:\n",
    "        if lr > 5e-6:\n",
    "            lr *= 0.1\n",
    "            optimizer = torch.optim.Adam(model.parameters(), lr=lr)\n",
    "    print('Epoch#{} ==> Train Loss: {:.3f} Train Acc: {:.3f} | Test Loss: {:.3f} Test Acc: {:.3f}'.format(\n",
    "        epoch, loss_val/batch_id, train_acc/batch_id, test_loss_val/test_batch_id, test_acc/test_batch_id))"
   ]
  },
  {
   "cell_type": "code",
   "execution_count": 35,
   "metadata": {},
   "outputs": [
    {
     "name": "stdout",
     "output_type": "stream",
     "text": [
      "[[0. 0. 0. 1. 0. 0. 0. 0. 0. 0. 0.]\n",
      " [0. 0. 0. 1. 0. 0. 0. 0. 0. 0. 0.]\n",
      " [0. 0. 0. 0. 0. 0. 0. 0. 0. 1. 0.]\n",
      " [0. 1. 0. 0. 0. 0. 0. 0. 0. 0. 0.]\n",
      " [0. 0. 0. 0. 0. 0. 0. 0. 0. 0. 1.]\n",
      " [0. 0. 0. 0. 0. 0. 0. 0. 0. 0. 1.]]\n",
      "target: [3, 3, 9, 1, '<end>', '<end>']\n",
      "output: [3, 3, 9, 1, '<end>', '<end>']\n"
     ]
    },
    {
     "data": {
      "image/png": "[encoded data removed]",
      "text/plain": [
       "<Figure size 432x288 with 1 Axes>"
      ]
     },
     "metadata": {
      "needs_background": "light"
     },
     "output_type": "display_data"
    }
   ],
   "source": [
    "X, target = valid_dataset[0]\n",
    "model.eval()\n",
    "with torch.no_grad():\n",
    "    X_gpu = X.to(device)[None]\n",
    "    preds = model(X_gpu).detach().cpu().view(-1,11)\n",
    "    preds = np.round(nn.Softmax(dim=1)(preds).numpy(),1)\n",
    "    print(preds)\n",
    "    print('target:' , [n if n<10 else '<end>' for n in target.numpy()])\n",
    "    print('output:' , [n if n<10 else '<end>' for n in np.argmax(preds, axis=1)])\n",
    "    del X_gpu\n",
    "# X[0][X[0]<.5] = 0\n",
    "plt.imshow(X[0]); plt.show()"
   ]
  },
  {
   "cell_type": "code",
   "execution_count": 38,
   "metadata": {},
   "outputs": [
    {
     "name": "stdout",
     "output_type": "stream",
     "text": [
      "The autoreload extension is already loaded. To reload it, use:\n",
      "  %reload_ext autoreload\n"
     ]
    },
    {
     "data": {
      "image/png": "[encoded data removed]",
      "text/plain": [
       "<Figure size 432x288 with 1 Axes>"
      ]
     },
     "metadata": {
      "needs_background": "light"
     },
     "output_type": "display_data"
    }
   ],
   "source": [
    "import cv2\n",
    "%load_ext autoreload\n",
    "%autoreload 2\n",
    "sys.path.append('./faster_RCNN/')\n",
    "from digits_dataset_class import DigitsDataset\n",
    "inference_dataset =  DigitsDataset([], [],[], [],\n",
    "                         transforms=test_transforms)\n",
    "\n",
    "img_path = 'cell_test.JPG'\n",
    "X = inference_dataset.preprocess(img_path)\n",
    "plt.imshow(X[0]); plt.show()"
   ]
  },
  {
   "cell_type": "code",
   "execution_count": 42,
   "metadata": {},
   "outputs": [
    {
     "name": "stdout",
     "output_type": "stream",
     "text": [
      "[[0.014 0.219 0.027 0.007 0.622 0.005 0.034 0.051 0.008 0.014 0.   ]\n",
      " [0.    0.016 0.002 0.004 0.009 0.001 0.    0.956 0.001 0.011 0.   ]\n",
      " [0.006 0.26  0.286 0.006 0.023 0.031 0.039 0.325 0.008 0.017 0.   ]\n",
      " [0.001 0.013 0.818 0.002 0.081 0.004 0.027 0.037 0.002 0.015 0.   ]\n",
      " [0.    0.002 0.016 0.    0.885 0.    0.03  0.004 0.002 0.051 0.009]\n",
      " [0.    0.    0.    0.    0.001 0.    0.    0.    0.    0.    0.999]]\n",
      "output: [4, 7, 7, 2, 4, '<end>']\n"
     ]
    },
    {
     "data": {
      "image/png": "[encoded data removed]",
      "text/plain": [
       "<Figure size 432x288 with 1 Axes>"
      ]
     },
     "metadata": {
      "needs_background": "light"
     },
     "output_type": "display_data"
    }
   ],
   "source": [
    "model.eval()\n",
    "X = inference_dataset.preprocess(img_path)\n",
    "with torch.no_grad():\n",
    "    X_gpu = X.to(device)[None]\n",
    "#     X_gpu = (X_gpu-X_gpu.min())/(X_gpu.max()-X_gpu.min())\n",
    "    preds = model(X_gpu).detach().cpu().view(-1,11)\n",
    "    preds = np.round(nn.Softmax(dim=1)(preds).numpy(),3)\n",
    "    print(preds)\n",
    "    print('output:' , [n if n<10 else '<end>' for n in np.argmax(preds, axis=1)])\n",
    "    del X_gpu\n",
    "plt.imshow(X[0]); plt.show()"
   ]
  },
  {
   "cell_type": "code",
   "execution_count": 81,
   "metadata": {},
   "outputs": [
    {
     "data": {
      "text/plain": [
       "(tensor([[[0., 0., 0.,  ..., 0., 0., 0.],\n",
       "          [0., 0., 0.,  ..., 0., 0., 0.],\n",
       "          [0., 0., 0.,  ..., 0., 0., 0.],\n",
       "          ...,\n",
       "          [0., 0., 0.,  ..., 0., 0., 0.],\n",
       "          [0., 0., 0.,  ..., 0., 0., 0.],\n",
       "          [0., 0., 0.,  ..., 0., 0., 0.]],\n",
       " \n",
       "         [[0., 0., 0.,  ..., 0., 0., 0.],\n",
       "          [0., 0., 0.,  ..., 0., 0., 0.],\n",
       "          [0., 0., 0.,  ..., 0., 0., 0.],\n",
       "          ...,\n",
       "          [0., 0., 0.,  ..., 0., 0., 0.],\n",
       "          [0., 0., 0.,  ..., 0., 0., 0.],\n",
       "          [0., 0., 0.,  ..., 0., 0., 0.]],\n",
       " \n",
       "         [[0., 0., 0.,  ..., 0., 0., 0.],\n",
       "          [0., 0., 0.,  ..., 0., 0., 0.],\n",
       "          [0., 0., 0.,  ..., 0., 0., 0.],\n",
       "          ...,\n",
       "          [0., 0., 0.,  ..., 0., 0., 0.],\n",
       "          [0., 0., 0.,  ..., 0., 0., 0.],\n",
       "          [0., 0., 0.,  ..., 0., 0., 0.]]]),\n",
       " tensor([ 7,  6,  1, 10, 10, 10]))"
      ]
     },
     "execution_count": 81,
     "metadata": {},
     "output_type": "execute_result"
    }
   ],
   "source": [
    "sample"
   ]
  },
  {
   "cell_type": "code",
   "execution_count": null,
   "metadata": {},
   "outputs": [],
   "source": [
    "X, target = valid_dataset[0]\n",
    "model.eval()\n",
    "with torch.no_grad():\n",
    "    X_gpu = X.to(device)[None]\n",
    "    preds = model(X_gpu).detach().cpu().view(-1,11)\n",
    "    preds = np.round(nn.Softmax(dim=1)(preds).numpy(),1)\n",
    "    print(preds)\n",
    "    print(np.argmax(preds, axis=1))\n",
    "    print(target.numpy())\n",
    "    del X_gpu\n",
    "plt.imshow(X[0]); plt.show()"
   ]
  },
  {
   "cell_type": "code",
   "execution_count": null,
   "metadata": {},
   "outputs": [],
   "source": [
    "# and a learning rate scheduler which decreases the learning rate by\n",
    "# 10x every 3 epochs\n",
    "# lr_scheduler = torch.optim.lr_scheduler.StepLR(optimizer,\n",
    "#                                                step_size=3,\n",
    "#                                                gamma=0.1)\n",
    "\n",
    "# number of epochs\n",
    "num_epochs = 20\n",
    "#start training\n",
    "for epoch in range(num_epochs):\n",
    "    \n",
    "    # train for one epoch, printing every 10 iterations\n",
    "    train_one_epoch(model, optimizer, data_loader, device, epoch, print_freq=10)\n",
    "    \n",
    "    # update the learning rate\n",
    "    lr_scheduler.step()\n",
    "    \n",
    "    # evaluate on the test dataset\n",
    "    evaluate(model, data_loader_valid, device=device)\n",
    "    \n",
    "    # save model afeter the current epoch\n",
    "    torch.save(model, os.path.join(checkpoints_dir, 'checkpoint_v4-' + str(epoch).zfill(2)) + '.pt')\n",
    "    print()\n",
    "    print()\n",
    "#9.27#9.59"
   ]
  },
  {
   "cell_type": "code",
   "execution_count": null,
   "metadata": {},
   "outputs": [],
   "source": [
    "# 370"
   ]
  }
 ],
 "metadata": {
  "kernelspec": {
   "display_name": "Python [conda env:pytorch_latest_p36]",
   "language": "python",
   "name": "conda-env-pytorch_latest_p36-py"
  },
  "language_info": {
   "codemirror_mode": {
    "name": "ipython",
    "version": 3
   },
   "file_extension": ".py",
   "mimetype": "text/x-python",
   "name": "python",
   "nbconvert_exporter": "python",
   "pygments_lexer": "ipython3",
   "version": "3.6.10"
  }
 },
 "nbformat": 4,
 "nbformat_minor": 4
}
