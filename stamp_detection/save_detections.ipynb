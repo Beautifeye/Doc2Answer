{
 "cells": [
  {
   "cell_type": "code",
   "execution_count": 18,
   "metadata": {},
   "outputs": [],
   "source": [
    "import pickle as pkl\n",
    "import pandas as pd\n",
    "import cv2\n",
    "import os\n",
    "import json\n",
    "\n",
    "DETECTION_FOLDER = '/home/ubuntu/storage/Doc2Answer/stamp_detection/retrieved_stamps/'\n",
    "os.makedirs(DETECTION_FOLDER, exist_ok=True)\n"
   ]
  },
  {
   "cell_type": "code",
   "execution_count": 19,
   "metadata": {},
   "outputs": [],
   "source": [
    "train_df = pkl.load(open('train_v4_df.pkl','rb+'))\n",
    "test_df = pkl.load(open('test_v4_df.pkl','rb+'))\n",
    "\n",
    "df = pd.concat([train_df, test_df], axis=0)"
   ]
  },
  {
   "cell_type": "code",
   "execution_count": 20,
   "metadata": {},
   "outputs": [],
   "source": [
    "df_unique  = df[df.groupby('path').name.transform(lambda x: len(set(x)))==1]"
   ]
  },
  {
   "cell_type": "code",
   "execution_count": 24,
   "metadata": {},
   "outputs": [],
   "source": [
    "from tqdm.notebook import tqdm"
   ]
  },
  {
   "cell_type": "code",
   "execution_count": 25,
   "metadata": {},
   "outputs": [
    {
     "data": {
      "application/vnd.jupyter.widget-view+json": {
       "model_id": "a2bf5f4473cc4f39afed47cd80fe7448",
       "version_major": 2,
       "version_minor": 0
      },
      "text/plain": [
       "HBox(children=(FloatProgress(value=0.0, max=777.0), HTML(value='')))"
      ]
     },
     "metadata": {},
     "output_type": "display_data"
    },
    {
     "name": "stdout",
     "output_type": "stream",
     "text": [
      "\n"
     ]
    }
   ],
   "source": [
    "for path, gdf in tqdm(df_unique.groupby('path')):\n",
    "    if len(gdf.name.unique())==1:\n",
    "        name = gdf.name.unique()[0]\n",
    "    else:\n",
    "        raise\n",
    "    img_folder = os.path.join(DETECTION_FOLDER, name)\n",
    "    os.makedirs(img_folder, exist_ok=True)\n",
    "    img = cv2.imread(path)\n",
    "    for idx, row in gdf.iterrows():\n",
    "        box  = row['points']\n",
    "        patch = img[box[1]:box[3], box[0]:box[2]].copy()\n",
    "        fn = str(box).replace(' ','')\n",
    "        cv2.imwrite(os.path.join(img_folder, f'{fn}.jpg'), patch)"
   ]
  }
 ],
 "metadata": {
  "kernelspec": {
   "display_name": "Python 3",
   "language": "python",
   "name": "python3"
  },
  "language_info": {
   "codemirror_mode": {
    "name": "ipython",
    "version": 3
   },
   "file_extension": ".py",
   "mimetype": "text/x-python",
   "name": "python",
   "nbconvert_exporter": "python",
   "pygments_lexer": "ipython3",
   "version": "3.7.7"
  }
 },
 "nbformat": 4,
 "nbformat_minor": 4
}
