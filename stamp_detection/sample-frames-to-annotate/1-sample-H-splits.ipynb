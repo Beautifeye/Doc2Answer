{
 "cells": [
  {
   "cell_type": "code",
   "execution_count": 1,
   "metadata": {},
   "outputs": [],
   "source": [
    "import os\n",
    "import pandas as pd\n",
    "import numpy as np\n",
    "import cv2\n",
    "import pickle\n",
    "import boto3\n",
    "from botocore.exceptions import ClientError\n",
    "from multiprocessing import Pool\n",
    "import shutil"
   ]
  },
  {
   "cell_type": "code",
   "execution_count": 2,
   "metadata": {},
   "outputs": [],
   "source": [
    "def upload_file(file_name, bucket_name, object_name=None):\n",
    "    s3_client = boto3.client('s3')\n",
    "    try:\n",
    "        response = s3_client.upload_file(file_name, bucket_name, object_name)\n",
    "    except ClientError as e:\n",
    "        print(str(e))\n",
    "        return False\n",
    "    return True\n",
    "\n",
    "\n",
    "def get_file(bucket, remote_path, local_path):\n",
    "    try:\n",
    "        bucket.download_file(remote_path, local_path)\n",
    "        return True\n",
    "    except:\n",
    "        return False\n",
    "    \n",
    "\n",
    "def download_video(remote_path, local_path):\n",
    "    if not os.path.exists(local_path):\n",
    "        if os.system('aws s3 cp ' + remote_path  + ' ' + local_path) != 0:\n",
    "            return False\n",
    "    return True\n",
    "\n",
    "\n",
    "def sample_video(bucket_name, video_path, custom_fps):\n",
    "    # set up temp dir where you are gonna save extracted samples\n",
    "    video_name = video_path.split('/')[-1].split('.')[0]\n",
    "    tmp_dir = 'frames_' + video_name\n",
    "    os.makedirs(tmp_dir, exist_ok=True)\n",
    "    \n",
    "    # download video\n",
    "    remote_path = os.path.join('s3://' + bucket_name, video_path)\n",
    "    local_path = os.path.join(tmp_dir, video_name + '.mp4')\n",
    "    if not download_video(remote_path, local_path):\n",
    "        raise Exception('Unable to download the video ' + video_path)\n",
    "    \n",
    "    vs = cv2.VideoCapture(local_path)\n",
    "    frame_id, saved_frames_counter = 0, 0\n",
    "    while True:\n",
    "        \n",
    "        grabbed, frame = vs.read()\n",
    "        if not grabbed:\n",
    "            break\n",
    "        \n",
    "        if frame_id % custom_fps == 0 and frame_id != 0:\n",
    "            cv2.imwrite(os.path.join(tmp_dir, 'img_' + str(saved_frames_counter).zfill(8) + '.jpg'), frame)\n",
    "            saved_frames_counter +=1\n",
    "            \n",
    "        frame_id += 1\n",
    "    vs.release()\n",
    "    os.remove(local_path)\n",
    "    \n",
    "    if os.system('zip -r ' + tmp_dir + '.zip' + ' ' + tmp_dir) != 0:\n",
    "        raise Exception('Unable to zip ' + tmp_dir)\n",
    "      \n",
    "    if not upload_file(tmp_dir + '.zip', bucket_name, object_name=os.path.join(video_name.split('-')[0], tmp_dir + '.zip')):\n",
    "            raise Exception('Unable to upload ' + tmp_dir + '.zip')\n",
    "            \n",
    "    shutil.rmtree(tmp_dir)\n",
    "    os.remove(tmp_dir + '.zip')"
   ]
  },
  {
   "cell_type": "code",
   "execution_count": 3,
   "metadata": {},
   "outputs": [],
   "source": [
    "FPS = 25\n",
    "QUANTIGO_BUCKET = 'quantigo'"
   ]
  },
  {
   "cell_type": "code",
   "execution_count": 4,
   "metadata": {},
   "outputs": [
    {
     "data": {
      "text/plain": [
       "(['left_h/clubber_video1-000276-000315.mp4',\n",
       "  'left_h/clubber_video1-000380-000389.mp4',\n",
       "  'left_h/clubber_video1-000496-000516.mp4',\n",
       "  'left_h/clubber_video1-000545-000551.mp4',\n",
       "  'left_h/clubber_video1-000556-000569.mp4'],\n",
       " ['right_h/clubber_video9-003600-003622.mp4',\n",
       "  'right_h/clubber_video9-003939-003951.mp4',\n",
       "  'right_h/clubber_video9-004102-004123.mp4',\n",
       "  'right_h/clubber_video9-004135-004143.mp4',\n",
       "  'right_h/clubber_video9-004158-004177.mp4'])"
      ]
     },
     "execution_count": 4,
     "metadata": {},
     "output_type": "execute_result"
    }
   ],
   "source": [
    "s3 = boto3.resource('s3')\n",
    "bucket = s3.Bucket(QUANTIGO_BUCKET)\n",
    "\n",
    "remote_video_paths = []\n",
    "\n",
    "for tag in ['left_h', 'right_h']:\n",
    "    for obj in bucket.objects.filter(Prefix=tag + '/'):\n",
    "        remote_video_paths.append(obj.key)\n",
    "        \n",
    "remote_video_paths[:5], remote_video_paths[-5:]"
   ]
  },
  {
   "cell_type": "code",
   "execution_count": 5,
   "metadata": {},
   "outputs": [],
   "source": [
    "args_list = [[QUANTIGO_BUCKET, video, FPS]\n",
    "             for video in remote_video_paths]\n",
    "with Pool() as pool:\n",
    "    pool.starmap(sample_video, args_list)"
   ]
  },
  {
   "cell_type": "code",
   "execution_count": null,
   "metadata": {},
   "outputs": [],
   "source": []
  },
  {
   "cell_type": "code",
   "execution_count": null,
   "metadata": {},
   "outputs": [],
   "source": [
    "   \n"
   ]
  },
  {
   "cell_type": "code",
   "execution_count": null,
   "metadata": {},
   "outputs": [],
   "source": []
  },
  {
   "cell_type": "code",
   "execution_count": null,
   "metadata": {},
   "outputs": [],
   "source": []
  },
  {
   "cell_type": "code",
   "execution_count": null,
   "metadata": {},
   "outputs": [],
   "source": []
  }
 ],
 "metadata": {
  "kernelspec": {
   "display_name": "Environment (conda_tensorflow2_p36)",
   "language": "python",
   "name": "conda_tensorflow2_p36"
  },
  "language_info": {
   "codemirror_mode": {
    "name": "ipython",
    "version": 3
   },
   "file_extension": ".py",
   "mimetype": "text/x-python",
   "name": "python",
   "nbconvert_exporter": "python",
   "pygments_lexer": "ipython3",
   "version": "3.6.10"
  }
 },
 "nbformat": 4,
 "nbformat_minor": 4
}
