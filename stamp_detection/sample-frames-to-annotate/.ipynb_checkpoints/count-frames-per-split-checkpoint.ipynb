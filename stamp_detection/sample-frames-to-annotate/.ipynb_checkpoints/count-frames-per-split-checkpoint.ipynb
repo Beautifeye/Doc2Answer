{
 "cells": [
  {
   "cell_type": "code",
   "execution_count": 1,
   "metadata": {},
   "outputs": [],
   "source": [
    "import os\n",
    "import pandas as pd\n",
    "import boto3\n",
    "from botocore.exceptions import ClientError\n",
    "from moviepy.video.io.ffmpeg_tools import ffmpeg_extract_subclip\n",
    "import shutil"
   ]
  },
  {
   "cell_type": "code",
   "execution_count": 2,
   "metadata": {},
   "outputs": [],
   "source": [
    "def get_file(bucket, remote_path, local_path):\n",
    "    try:\n",
    "        bucket.download_file(remote_path, local_path)\n",
    "        return True\n",
    "    except:\n",
    "        return False"
   ]
  },
  {
   "cell_type": "code",
   "execution_count": 3,
   "metadata": {},
   "outputs": [],
   "source": [
    "QUANTIGO_BUCKET = 'quantigo'"
   ]
  },
  {
   "cell_type": "code",
   "execution_count": 4,
   "metadata": {},
   "outputs": [
    {
     "data": {
      "text/plain": [
       "(['frames_clubber_video1-000027-000070.zip',\n",
       "  'frames_clubber_video1-000133-000167.zip',\n",
       "  'frames_clubber_video1-000183-000184.zip'],\n",
       " ['frames_clubber_video9-004135-004143.zip',\n",
       "  'frames_clubber_video9-004158-004177.zip',\n",
       "  'frames_clubber_video9-004178-004219.zip'])"
      ]
     },
     "execution_count": 4,
     "metadata": {},
     "output_type": "execute_result"
    }
   ],
   "source": [
    "s3 = boto3.resource('s3')\n",
    "bucket = s3.Bucket(QUANTIGO_BUCKET)\n",
    "\n",
    "remote_zip_files = [obj.key\n",
    "                    for obj in bucket.objects.filter(Prefix='frame')\n",
    "                    if obj.key.endswith('.zip')]\n",
    "\n",
    "remote_zip_files[:3], remote_zip_files[-3:]"
   ]
  },
  {
   "cell_type": "code",
   "execution_count": 5,
   "metadata": {},
   "outputs": [],
   "source": [
    "n_images = {'match': [], 'n': []}\n",
    "\n",
    "for zip_file in remote_zip_files:\n",
    "    \n",
    "    if not get_file(bucket, zip_file, zip_file):\n",
    "        raise Exception('Unable to download ' + zip_file)\n",
    "    \n",
    "    if os.system('unzip ' + zip_file) != 0:\n",
    "        raise Exception('Unable to unzip ' + zip_file)\n",
    "    \n",
    "    n_images['match'].append(zip_file.split('.')[0])\n",
    "    n_images['n'].append(len(os.listdir(zip_file.split('.')[0])))\n",
    "    \n",
    "    os.remove(zip_file)\n",
    "    shutil.rmtree(zip_file.split('.')[0])                "
   ]
  },
  {
   "cell_type": "code",
   "execution_count": 7,
   "metadata": {},
   "outputs": [
    {
     "data": {
      "text/html": [
       "<div>\n",
       "<style scoped>\n",
       "    .dataframe tbody tr th:only-of-type {\n",
       "        vertical-align: middle;\n",
       "    }\n",
       "\n",
       "    .dataframe tbody tr th {\n",
       "        vertical-align: top;\n",
       "    }\n",
       "\n",
       "    .dataframe thead th {\n",
       "        text-align: right;\n",
       "    }\n",
       "</style>\n",
       "<table border=\"1\" class=\"dataframe\">\n",
       "  <thead>\n",
       "    <tr style=\"text-align: right;\">\n",
       "      <th></th>\n",
       "      <th>match</th>\n",
       "      <th>n</th>\n",
       "    </tr>\n",
       "  </thead>\n",
       "  <tbody>\n",
       "    <tr>\n",
       "      <th>0</th>\n",
       "      <td>frames_clubber_video1-000027-000070</td>\n",
       "      <td>72</td>\n",
       "    </tr>\n",
       "    <tr>\n",
       "      <th>1</th>\n",
       "      <td>frames_clubber_video1-000133-000167</td>\n",
       "      <td>57</td>\n",
       "    </tr>\n",
       "    <tr>\n",
       "      <th>2</th>\n",
       "      <td>frames_clubber_video1-000183-000184</td>\n",
       "      <td>2</td>\n",
       "    </tr>\n",
       "    <tr>\n",
       "      <th>3</th>\n",
       "      <td>frames_clubber_video1-000191-000197</td>\n",
       "      <td>10</td>\n",
       "    </tr>\n",
       "    <tr>\n",
       "      <th>4</th>\n",
       "      <td>frames_clubber_video1-000237-000268</td>\n",
       "      <td>52</td>\n",
       "    </tr>\n",
       "    <tr>\n",
       "      <th>...</th>\n",
       "      <td>...</td>\n",
       "      <td>...</td>\n",
       "    </tr>\n",
       "    <tr>\n",
       "      <th>1718</th>\n",
       "      <td>frames_clubber_video9-004054-004079</td>\n",
       "      <td>42</td>\n",
       "    </tr>\n",
       "    <tr>\n",
       "      <th>1719</th>\n",
       "      <td>frames_clubber_video9-004102-004123</td>\n",
       "      <td>35</td>\n",
       "    </tr>\n",
       "    <tr>\n",
       "      <th>1720</th>\n",
       "      <td>frames_clubber_video9-004135-004143</td>\n",
       "      <td>14</td>\n",
       "    </tr>\n",
       "    <tr>\n",
       "      <th>1721</th>\n",
       "      <td>frames_clubber_video9-004158-004177</td>\n",
       "      <td>32</td>\n",
       "    </tr>\n",
       "    <tr>\n",
       "      <th>1722</th>\n",
       "      <td>frames_clubber_video9-004178-004219</td>\n",
       "      <td>69</td>\n",
       "    </tr>\n",
       "  </tbody>\n",
       "</table>\n",
       "<p>1723 rows × 2 columns</p>\n",
       "</div>"
      ],
      "text/plain": [
       "                                    match   n\n",
       "0     frames_clubber_video1-000027-000070  72\n",
       "1     frames_clubber_video1-000133-000167  57\n",
       "2     frames_clubber_video1-000183-000184   2\n",
       "3     frames_clubber_video1-000191-000197  10\n",
       "4     frames_clubber_video1-000237-000268  52\n",
       "...                                   ...  ..\n",
       "1718  frames_clubber_video9-004054-004079  42\n",
       "1719  frames_clubber_video9-004102-004123  35\n",
       "1720  frames_clubber_video9-004135-004143  14\n",
       "1721  frames_clubber_video9-004158-004177  32\n",
       "1722  frames_clubber_video9-004178-004219  69\n",
       "\n",
       "[1723 rows x 2 columns]"
      ]
     },
     "execution_count": 7,
     "metadata": {},
     "output_type": "execute_result"
    }
   ],
   "source": [
    "df = pd.DataFrame(n_images)\n",
    "df"
   ]
  },
  {
   "cell_type": "code",
   "execution_count": 8,
   "metadata": {},
   "outputs": [
    {
     "data": {
      "text/plain": [
       "47399"
      ]
     },
     "execution_count": 8,
     "metadata": {},
     "output_type": "execute_result"
    }
   ],
   "source": [
    "df['n'].sum()"
   ]
  },
  {
   "cell_type": "code",
   "execution_count": null,
   "metadata": {},
   "outputs": [],
   "source": []
  },
  {
   "cell_type": "code",
   "execution_count": null,
   "metadata": {},
   "outputs": [],
   "source": []
  }
 ],
 "metadata": {
  "kernelspec": {
   "display_name": "Environment (conda_tensorflow2_p36)",
   "language": "python",
   "name": "conda_tensorflow2_p36"
  },
  "language_info": {
   "codemirror_mode": {
    "name": "ipython",
    "version": 3
   },
   "file_extension": ".py",
   "mimetype": "text/x-python",
   "name": "python",
   "nbconvert_exporter": "python",
   "pygments_lexer": "ipython3",
   "version": "3.6.10"
  }
 },
 "nbformat": 4,
 "nbformat_minor": 4
}
