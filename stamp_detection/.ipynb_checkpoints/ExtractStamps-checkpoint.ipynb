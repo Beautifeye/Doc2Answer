{
 "cells": [
  {
   "cell_type": "code",
   "execution_count": null,
   "metadata": {},
   "outputs": [],
   "source": [
    "import openpyxl\n",
    "from openpyxl_image_loader import SheetImageLoader\n",
    "\n",
    "#loading the Excel File and the sheet\n",
    "pxl_doc = openpyxl.load_workbook('Mapping.xlsx')\n",
    "sheet = pxl_doc['Sheet1']\n",
    "\n",
    "stamp_names = pd.read_excel('Mapping.xlsx')['Stamp Class'].values\n",
    "#calling the image_loader\n",
    "image_loader = SheetImageLoader(sheet)\n",
    "\n",
    "#get the image (put the cell you need instead of 'A1')\n",
    "for i in range(2, 77):\n",
    "    image = image_loader.get(f'A{i}')\n",
    "    stamp_name = stamp_names[i-2]\n",
    "\n",
    "    #saving the image\n",
    "    image.save(f'catalogue/{stamp_name}.jpg')"
   ]
  }
 ],
 "metadata": {
  "kernelspec": {
   "display_name": "Python 3",
   "language": "python",
   "name": "python3"
  },
  "language_info": {
   "codemirror_mode": {
    "name": "ipython",
    "version": 3
   },
   "file_extension": ".py",
   "mimetype": "text/x-python",
   "name": "python",
   "nbconvert_exporter": "python",
   "pygments_lexer": "ipython3",
   "version": "3.7.7"
  }
 },
 "nbformat": 4,
 "nbformat_minor": 4
}
